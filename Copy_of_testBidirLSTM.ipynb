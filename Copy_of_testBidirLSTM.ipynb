{
  "nbformat": 4,
  "nbformat_minor": 0,
  "metadata": {
    "colab": {
      "name": "Copy of testBidirLSTM.ipynb",
      "version": "0.3.2",
      "provenance": [],
      "collapsed_sections": [],
      "include_colab_link": true
    },
    "kernelspec": {
      "name": "python3",
      "display_name": "Python 3"
    },
    "accelerator": "GPU"
  },
  "cells": [
    {
      "cell_type": "markdown",
      "metadata": {
        "id": "view-in-github",
        "colab_type": "text"
      },
      "source": [
        "<a href=\"https://colab.research.google.com/github/trismegisto78/romeo/blob/master/Copy_of_testBidirLSTM.ipynb\" target=\"_parent\"><img src=\"https://colab.research.google.com/assets/colab-badge.svg\" alt=\"Open In Colab\"/></a>"
      ]
    },
    {
      "metadata": {
        "id": "ZwD4Pm6HLfac",
        "colab_type": "code",
        "colab": {
          "base_uri": "https://localhost:8080/",
          "height": 34
        },
        "outputId": "a19ce62c-fb11-4162-a31a-9e72bd7cacbd"
      },
      "cell_type": "code",
      "source": [
        "\n",
        "import numpy as np\n",
        "from random import random\n",
        "from numpy import array\n",
        "from numpy import cumsum\n",
        "from keras.models import Sequential\n",
        "from keras.layers import LSTM\n",
        "from keras.layers import Dense\n",
        "from keras.layers import TimeDistributed\n",
        "from keras.layers import Bidirectional\n",
        "from keras.layers import Flatten,CuDNNLSTM,Reshape,Conv2D,GaussianNoise,Dropout,Input\n",
        "from keras.initializers import glorot_uniform\n",
        "from keras.regularizers import Regularizer\n",
        "from keras import regularizers\n",
        "from keras.models import Model\n"
      ],
      "execution_count": 2,
      "outputs": [
        {
          "output_type": "stream",
          "text": [
            "Using TensorFlow backend.\n"
          ],
          "name": "stderr"
        }
      ]
    },
    {
      "metadata": {
        "id": "8kHnvUueWpsW",
        "colab_type": "code",
        "colab": {}
      },
      "cell_type": "code",
      "source": [
        "!git clone https://github.com/trismegisto78/romeo"
      ],
      "execution_count": 0,
      "outputs": []
    },
    {
      "metadata": {
        "id": "Fx3QdJ_FCQH4",
        "colab_type": "text"
      },
      "cell_type": "markdown",
      "source": [
        "MOUNT GOOGLE DRIVE"
      ]
    },
    {
      "metadata": {
        "id": "Pj_iYC_gyY2S",
        "colab_type": "code",
        "outputId": "a7987763-f3ad-497c-dfb3-e86716c82800",
        "colab": {
          "base_uri": "https://localhost:8080/",
          "height": 34
        }
      },
      "cell_type": "code",
      "source": [
        "from google.colab import drive\n",
        "drive.mount('/content/gdrive')"
      ],
      "execution_count": 3,
      "outputs": [
        {
          "output_type": "stream",
          "text": [
            "Drive already mounted at /content/gdrive; to attempt to forcibly remount, call drive.mount(\"/content/gdrive\", force_remount=True).\n"
          ],
          "name": "stdout"
        }
      ]
    },
    {
      "metadata": {
        "id": "AoK-CpMQyY3j",
        "colab_type": "code",
        "colab": {}
      },
      "cell_type": "code",
      "source": [
        "with open('/content/gdrive/My Drive/strMacd2004.csv', 'r') as f:\n",
        "  lerighe = f.read().split('\\n')\n",
        "del lerighe[0]"
      ],
      "execution_count": 0,
      "outputs": []
    },
    {
      "metadata": {
        "id": "Nl5PaobDJ3lw",
        "colab_type": "code",
        "outputId": "1c66a366-f6b0-42d2-e43d-b6c9018d3cf5",
        "colab": {
          "base_uri": "https://localhost:8080/",
          "height": 34
        }
      },
      "cell_type": "code",
      "source": [
        "#create main data array with float values\n",
        "righe_file=[]\n",
        "valoriOriginali = []\n",
        "for k in range(0,350000) :\n",
        "  righe_file.append( np.around((float(lerighe[k+1].split(\";\")[1]) -float(lerighe[k].split(\";\")[1]))*100000,0) )\n",
        "  valoriOriginali.append(float(lerighe[k].split(\";\")[1]))\n",
        "print(righe_file[0])\n",
        "\n",
        "\n"
      ],
      "execution_count": 24,
      "outputs": [
        {
          "output_type": "stream",
          "text": [
            "10.0\n"
          ],
          "name": "stdout"
        }
      ]
    },
    {
      "metadata": {
        "id": "AJr_kck5bsch",
        "colab_type": "code",
        "outputId": "68d14f65-636b-49a5-f61e-0db062c58bf2",
        "colab": {
          "base_uri": "https://localhost:8080/",
          "height": 68
        }
      },
      "cell_type": "code",
      "source": [
        "#find max and min\n",
        "ilMax = max(righe_file)\n",
        "ilMin = min(righe_file)\n",
        "\n",
        "\n",
        "delta = ilMax-ilMin\n",
        "\n",
        "\n",
        "print('MAX ', ilMax )\n",
        "print('MIN ', ilMin )\n",
        "print('delta ', delta )"
      ],
      "execution_count": 25,
      "outputs": [
        {
          "output_type": "stream",
          "text": [
            "MAX  1590.0\n",
            "MIN  -1270.0\n",
            "delta  2860.0\n"
          ],
          "name": "stdout"
        }
      ]
    },
    {
      "metadata": {
        "id": "ulF9WlTOdmpa",
        "colab_type": "code",
        "outputId": "90c2a7d2-54a6-4678-ea26-b96e055aedb2",
        "colab": {
          "base_uri": "https://localhost:8080/",
          "height": 347
        }
      },
      "cell_type": "code",
      "source": [
        "\n",
        "#distribution\n",
        "import numpy as np\n",
        "import pandas as pd\n",
        "import seaborn as sns\n",
        "import matplotlib.pyplot as plt\n",
        "from scipy import stats\n",
        "\n",
        "sns.set(color_codes=True)\n",
        "\n",
        "sns.distplot(righe_file);\n",
        "\n",
        "#unique, counts = np.unique(righe_file, return_counts=True)\n",
        "\n",
        "\n",
        " #valoriMain = np.asarray((unique, counts) )\n",
        "#(pd.value_counts(unique) ).plot.bar( ec=\"orange\")\n",
        "\n"
      ],
      "execution_count": 26,
      "outputs": [
        {
          "output_type": "display_data",
          "data": {
            "image/png": "[encoded data removed]",
            "text/plain": [
              "<matplotlib.figure.Figure at 0x7f8cab7a67b8>"
            ]
          },
          "metadata": {
            "tags": []
          }
        }
      ]
    },
    {
      "metadata": {
        "id": "tEiNZ5n-Wk8G",
        "colab_type": "code",
        "colab": {}
      },
      "cell_type": "code",
      "source": [
        "# create a sequence classification instance\n",
        "def get_sequence(dataset_array):\n",
        "  idx = np.random.randint(0,len(dataset_array)-130  )\n",
        "  X,y = get_sequence_from_idx(dataset_array,idx)\n",
        "  return X,y\n",
        "\n",
        "def get_sequence_from_idx(dataset_array,idx):\n",
        "  \n",
        "  X = np.zeros(n_timesteps)\n",
        "  Y = np.zeros(1)\n",
        "   \n",
        "  \n",
        "  for k in range(idx,idx+n_timesteps ):\n",
        "    #value=normValue(dataset_array[k])\n",
        "    value=dataset_array[k]\n",
        "    X[k-idx]=value\n",
        "    \n",
        "  #finalValue=normValue(dataset_array[idx+130])\n",
        "  lastVlue = valoriOriginali[idx+100]\n",
        "  finalValue= valoriOriginali[idx+130]\n",
        "\n",
        "  if finalValue<(lastVlue-0.00050):\n",
        "    Y[0]=1.0\n",
        "  else:\n",
        "    Y[0]=0.0\n",
        "  \n",
        "  X = X.reshape(n_timesteps,1)\n",
        "  Y = Y.reshape(1)\n",
        "  return X, Y\n",
        "\n",
        "def get_a_batch(batchSize,data_set):\n",
        "  totexamples = batchSize\n",
        "  xInput = np.zeros( (totexamples,n_timesteps,1) )\n",
        "  target = np.zeros( (totexamples,1) )\n",
        "  for k in range(0,totexamples):\n",
        "    X,y = get_sequence(data_set)\n",
        "    xInput[k] = X\n",
        "    target[k] = y\n",
        "  \n",
        "  return xInput,target\n",
        "\n",
        "def get_simple_random_batch(batchSize,data_set):\n",
        "  idx = np.random.randint(0,len(data_set),batchSize  )\n",
        "  fullBatch = data_set[idx]\n",
        "  \n",
        "  xInput = np.zeros( (batchSize,n_timesteps,1) )\n",
        "  target = np.zeros( (batchSize,1) )\n",
        "  \n",
        "  for k in range( len(fullBatch)  ):\n",
        "    xInput[k] = fullBatch[k][0]\n",
        "    target[k] = fullBatch[k][1]\n",
        "  \n",
        "  return xInput,target\n",
        "\n",
        "def get_simple_all_dataset(data_set):\n",
        "  \n",
        "  xInput = np.zeros( (len(data_set),n_timesteps,1) )\n",
        "  target = np.zeros( (len(data_set),1) )\n",
        "  \n",
        "  for k in range( len(data_set)  ):\n",
        "    xInput[k] = data_set[k][0]\n",
        "    target[k] = data_set[k][1]\n",
        "  \n",
        "  return xInput,target\n",
        "\n",
        "def getAllDataSet(data_set):\n",
        "  totexamples = len(data_set)-130\n",
        "  xInput = np.zeros( (totexamples,n_timesteps,1) )\n",
        "  target = np.zeros( (totexamples,1) )\n",
        "  listone = []\n",
        "  for k in range(0,totexamples):\n",
        "    X,y = get_sequence_from_idx(data_set,k)\n",
        "    ilMax = np.max(X)\n",
        "    ilMin = np.min(X)\n",
        "    \n",
        "    X = (X-ilMin)/(ilMax-ilMin)\n",
        "#    xInput[k] = X\n",
        "#    target[k] = y\n",
        "    if X.max()<=500 or X.min()>=-500:\n",
        "      listone.append([X/500,y])\n",
        "    if k % 100000 ==0 :\n",
        "      print('generate %d dataset items ' % k)\n",
        "  return listone#xInput,target \n"
      ],
      "execution_count": 0,
      "outputs": []
    },
    {
      "metadata": {
        "id": "M-656NHRk5JE",
        "colab_type": "code",
        "colab": {}
      },
      "cell_type": "code",
      "source": [
        "def normValue(theValue):\n",
        "  return (float(theValue)-ilMin)/delta\n"
      ],
      "execution_count": 0,
      "outputs": []
    },
    {
      "metadata": {
        "id": "kvDk_hA8tFQv",
        "colab_type": "code",
        "outputId": "7b2ac67f-36e8-4750-808f-4eab60595386",
        "colab": {
          "base_uri": "https://localhost:8080/",
          "height": 119
        }
      },
      "cell_type": "code",
      "source": [
        "from sklearn.model_selection import train_test_split\n",
        "\n",
        "n_timesteps = 100\n",
        "\n",
        "allDataset = getAllDataSet(righe_file)\n",
        "\n",
        "\n",
        "train, validation = train_test_split(allDataset,shuffle=False)\n",
        "\n",
        "print(\"TRAIN LEN \",len(train) )\n",
        "print(\"validation LEN \",len(validation) )\n"
      ],
      "execution_count": 29,
      "outputs": [
        {
          "output_type": "stream",
          "text": [
            "generate 0 dataset items \n",
            "generate 100000 dataset items \n",
            "generate 200000 dataset items \n",
            "generate 300000 dataset items \n",
            "TRAIN LEN  262402\n",
            "validation LEN  87468\n"
          ],
          "name": "stdout"
        }
      ]
    },
    {
      "metadata": {
        "id": "yeK8zE35KMCN",
        "colab_type": "code",
        "colab": {}
      },
      "cell_type": "code",
      "source": [
        "#train[0].head()\n",
        "array_train = np.asarray(train )\n",
        "array_val = np.asarray(validation )\n",
        "\n"
      ],
      "execution_count": 0,
      "outputs": []
    },
    {
      "metadata": {
        "id": "zow37PtoRZOn",
        "colab_type": "code",
        "colab": {
          "base_uri": "https://localhost:8080/",
          "height": 34
        },
        "outputId": "35fcdcc7-01a9-46eb-d458-e3a856598223"
      },
      "cell_type": "code",
      "source": [
        "import tensorflow as tf\n",
        "device_name = tf.test.gpu_device_name()\n",
        "if device_name != '/device:GPU:0':\n",
        "  raise SystemError('GPU device not found')\n",
        "print('Found GPU at: {}'.format(device_name))"
      ],
      "execution_count": 31,
      "outputs": [
        {
          "output_type": "stream",
          "text": [
            "Found GPU at: /device:GPU:0\n"
          ],
          "name": "stdout"
        }
      ]
    },
    {
      "metadata": {
        "id": "zNSwgIWMbXxb",
        "colab_type": "text"
      },
      "cell_type": "markdown",
      "source": [
        ""
      ]
    },
    {
      "metadata": {
        "id": "ax_H7KPcTZr3",
        "colab_type": "code",
        "outputId": "154d0f73-8a51-4c61-9815-1cb7a359f24e",
        "colab": {
          "base_uri": "https://localhost:8080/",
          "height": 306
        }
      },
      "cell_type": "code",
      "source": [
        "import keras as keras\n",
        "\n",
        "model = Sequential()\n",
        "model.add(Bidirectional(CuDNNLSTM(n_timesteps, return_sequences=True), \n",
        "                        input_shape=(n_timesteps, 1), name='inputBIDI'))\n",
        "model.add(Bidirectional(CuDNNLSTM(512, return_sequences=True)))\n",
        "model.add(TimeDistributed(Dense(512, activation='tanh')))\n",
        "model.add(Flatten())\n",
        "model.add(Dense(1, activation='sigmoid')  ) \n",
        "\n",
        "model.compile(loss='binary_crossentropy', optimizer='adam', metrics=['acc'])\n",
        "model.summary()\n"
      ],
      "execution_count": 32,
      "outputs": [
        {
          "output_type": "stream",
          "text": [
            "_________________________________________________________________\n",
            "Layer (type)                 Output Shape              Param #   \n",
            "=================================================================\n",
            "inputBIDI (Bidirectional)    (None, 100, 200)          82400     \n",
            "_________________________________________________________________\n",
            "bidirectional_1 (Bidirection (None, 100, 1024)         2924544   \n",
            "_________________________________________________________________\n",
            "time_distributed_1 (TimeDist (None, 100, 512)          524800    \n",
            "_________________________________________________________________\n",
            "flatten_1 (Flatten)          (None, 51200)             0         \n",
            "_________________________________________________________________\n",
            "dense_2 (Dense)              (None, 1)                 51201     \n",
            "=================================================================\n",
            "Total params: 3,582,945\n",
            "Trainable params: 3,582,945\n",
            "Non-trainable params: 0\n",
            "_________________________________________________________________\n"
          ],
          "name": "stdout"
        }
      ]
    },
    {
      "metadata": {
        "id": "AXXnozb1sF0T",
        "colab_type": "code",
        "outputId": "eaf99de5-bfa9-4313-ca74-55f6927ed039",
        "colab": {
          "base_uri": "https://localhost:8080/",
          "height": 85
        }
      },
      "cell_type": "code",
      "source": [
        "samplePos=0\n",
        "# train LSTM\n",
        "\n",
        "\n",
        "\n",
        "\n",
        "np.random.shuffle(array_val)\n",
        "xInput,target = get_simple_all_dataset(array_val)\n",
        "\n",
        "\n",
        "import tensorflow as tf\n",
        "device_name = tf.test.gpu_device_name()\n",
        "if device_name != '/device:GPU:0':\n",
        "  raise SystemError('GPU device not found')\n",
        "print('Found GPU at: {}'.format(device_name))\n",
        "\n",
        "for epoch in range(10000000):\n",
        " \n",
        "  X,y = get_simple_random_batch(64,array_train )\n",
        "  resTrain = model.train_on_batch(X,y)\n",
        "\n",
        "    \n",
        "  if(epoch % 100 == 0):\n",
        "    model.save('my_model.h5') \n",
        "    print('Apprendimento epoch->',epoch,' ',resTrain)\n",
        "    \n",
        "  if(epoch % 200 == 0):\n",
        "    model.save('my_model.h5') \n",
        "    \n",
        "  if(epoch % 300 == 0 and not epoch == 0 ):\n",
        "    model.save('my_model.h5') \n",
        "    totexamples = 1000\n",
        "    resulto = model.evaluate(xInput, target, verbose=1,batch_size=128)\n",
        "\n",
        "    print('Eseguo validazione %.2f%%'%(resulto[1]*100), '>>>>>',resulto  )\n",
        "    print('')\n",
        "\n",
        "  \n",
        "# evaluate LSTM\n",
        "\n"
      ],
      "execution_count": 0,
      "outputs": [
        {
          "output_type": "stream",
          "text": [
            "Found GPU at: /device:GPU:0\n",
            "Apprendimento epoch-> 0   [0.5265362, 0.78125]\n",
            "Apprendimento epoch-> 100   [0.5446014, 0.765625]\n",
            "Apprendimento epoch-> 200   [0.58166325, 0.734375]\n"
          ],
          "name": "stdout"
        }
      ]
    },
    {
      "metadata": {
        "id": "7WsO9QvZwnfc",
        "colab_type": "code",
        "colab": {}
      },
      "cell_type": "code",
      "source": [
        " "
      ],
      "execution_count": 0,
      "outputs": []
    },
    {
      "metadata": {
        "id": "741hU0hHWyfD",
        "colab_type": "code",
        "colab": {}
      },
      "cell_type": "code",
      "source": [
        ""
      ],
      "execution_count": 0,
      "outputs": []
    }
  ]
}