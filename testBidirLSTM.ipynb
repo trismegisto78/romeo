{
  "nbformat": 4,
  "nbformat_minor": 0,
  "metadata": {
    "colab": {
      "name": "testBidirLSTM.ipynb",
      "version": "0.3.2",
      "provenance": [],
      "collapsed_sections": [],
      "include_colab_link": true
    },
    "kernelspec": {
      "name": "python3",
      "display_name": "Python 3"
    },
    "accelerator": "GPU"
  },
  "cells": [
    {
      "cell_type": "markdown",
      "metadata": {
        "id": "view-in-github",
        "colab_type": "text"
      },
      "source": [
        "<a href=\"https://colab.research.google.com/github/trismegisto78/romeo/blob/master/testBidirLSTM.ipynb\" target=\"_parent\"><img src=\"https://colab.research.google.com/assets/colab-badge.svg\" alt=\"Open In Colab\"/></a>"
      ]
    },
    {
      "metadata": {
        "id": "ZwD4Pm6HLfac",
        "colab_type": "code",
        "colab": {
          "base_uri": "https://localhost:8080/",
          "height": 34
        },
        "outputId": "65605287-f4e3-49a8-a9e0-367ec6cdc738"
      },
      "cell_type": "code",
      "source": [
        "\n",
        "import numpy as np\n",
        "from random import random\n",
        "from numpy import array\n",
        "from numpy import cumsum\n",
        "from keras.models import Sequential\n",
        "from keras.layers import LSTM\n",
        "from keras.layers import Dense\n",
        "from keras.layers import TimeDistributed\n",
        "from keras.layers import Bidirectional\n",
        "from keras.layers import Flatten,CuDNNLSTM\n",
        "from keras.initializers import glorot_uniform\n"
      ],
      "execution_count": 1,
      "outputs": [
        {
          "output_type": "stream",
          "text": [
            "Using TensorFlow backend.\n"
          ],
          "name": "stderr"
        }
      ]
    },
    {
      "metadata": {
        "id": "8kHnvUueWpsW",
        "colab_type": "code",
        "outputId": "fc91406c-b922-427e-a840-81aebbc1a6c1",
        "colab": {
          "base_uri": "https://localhost:8080/",
          "height": 150
        }
      },
      "cell_type": "code",
      "source": [
        "!git clone https://github.com/trismegisto78/romeo"
      ],
      "execution_count": 2,
      "outputs": [
        {
          "output_type": "stream",
          "text": [
            "Cloning into 'romeo'...\n",
            "remote: Enumerating objects: 51, done.\u001b[K\n",
            "remote: Counting objects: 100% (51/51), done.\u001b[K\n",
            "remote: Compressing objects: 100% (49/49), done.\u001b[K\n",
            "remote: Total 51 (delta 23), reused 0 (delta 0), pack-reused 0\u001b[K\n",
            "Unpacking objects: 100% (51/51), done.\n"
          ],
          "name": "stdout"
        }
      ]
    },
    {
      "metadata": {
        "id": "Fx3QdJ_FCQH4",
        "colab_type": "text"
      },
      "cell_type": "markdown",
      "source": [
        "MOUNT GOOGLE DRIVE"
      ]
    },
    {
      "metadata": {
        "id": "Pj_iYC_gyY2S",
        "colab_type": "code",
        "outputId": "b274fea7-4ab3-418d-e05c-c82099122527",
        "colab": {
          "base_uri": "https://localhost:8080/",
          "height": 122
        }
      },
      "cell_type": "code",
      "source": [
        "from google.colab import drive\n",
        "drive.mount('/content/gdrive')"
      ],
      "execution_count": 3,
      "outputs": [
        {
          "output_type": "stream",
          "text": [
            "Go to this URL in a browser: https://accounts.google.com/o/oauth2/auth?client_id=947318989803-6bn6qk8qdgf4n4g3pfee6491hc0brc4i.apps.googleusercontent.com&redirect_uri=urn%3Aietf%3Awg%3Aoauth%3A2.0%3Aoob&scope=email%20https%3A%2F%2Fwww.googleapis.com%2Fauth%2Fdocs.test%20https%3A%2F%2Fwww.googleapis.com%2Fauth%2Fdrive%20https%3A%2F%2Fwww.googleapis.com%2Fauth%2Fdrive.photos.readonly%20https%3A%2F%2Fwww.googleapis.com%2Fauth%2Fpeopleapi.readonly&response_type=code\n",
            "\n",
            "Enter your authorization code:\n",
            "··········\n",
            "Mounted at /content/gdrive\n"
          ],
          "name": "stdout"
        }
      ]
    },
    {
      "metadata": {
        "id": "AoK-CpMQyY3j",
        "colab_type": "code",
        "colab": {}
      },
      "cell_type": "code",
      "source": [
        "with open('/content/gdrive/My Drive/strMacd2004.csv', 'r') as f:\n",
        "  lerighe = f.read().split('\\n')\n",
        "del lerighe[0]"
      ],
      "execution_count": 0,
      "outputs": []
    },
    {
      "metadata": {
        "id": "Nl5PaobDJ3lw",
        "colab_type": "code",
        "outputId": "33a71e0b-bb16-49fe-c249-70449b20f8f2",
        "colab": {
          "base_uri": "https://localhost:8080/",
          "height": 34
        }
      },
      "cell_type": "code",
      "source": [
        "righe_file=[]\n",
        "for k in range(0,1000000) :\n",
        "  righe_file.append(float(lerighe[k].split(\";\")[1]) )\n",
        "  \n",
        "print(righe_file[0])\n",
        "\n"
      ],
      "execution_count": 14,
      "outputs": [
        {
          "output_type": "stream",
          "text": [
            "1.2596\n"
          ],
          "name": "stdout"
        }
      ]
    },
    {
      "metadata": {
        "id": "tEiNZ5n-Wk8G",
        "colab_type": "code",
        "colab": {}
      },
      "cell_type": "code",
      "source": [
        "# create a sequence classification instance\n",
        "def get_sequence(dataset_array):\n",
        "  idx = np.random.randint(0,len(dataset_array)-130  )\n",
        "  X,y = get_sequence_from_idx(dataset_array,idx)\n",
        "  return X,y\n",
        "\n",
        "def get_sequence_from_idx(dataset_array,idx):\n",
        "  \n",
        "  X = np.zeros(n_timesteps)\n",
        "  Y = np.zeros(1)\n",
        "   \n",
        "  \n",
        "  for k in range(idx,idx+n_timesteps ):\n",
        "    value=normValue(dataset_array[k])\n",
        "    X[k-idx]=value\n",
        "    \n",
        "  finalValue=normValue(dataset_array[idx+130])\n",
        "\n",
        "  if finalValue<(value-0.00050):\n",
        "    Y[0]=1.0\n",
        "  else:\n",
        "    Y[0]=0.0\n",
        "  \n",
        "  X = X.reshape(n_timesteps,1)\n",
        "  Y = Y.reshape(1)\n",
        "  return X, Y\n",
        "\n",
        "def get_a_batch(batchSize,data_set):\n",
        "  totexamples = batchSize\n",
        "  xInput = np.zeros( (totexamples,n_timesteps,1) )\n",
        "  target = np.zeros( (totexamples,1) )\n",
        "  for k in range(0,totexamples):\n",
        "    X,y = get_sequence(data_set)\n",
        "    xInput[k] = X\n",
        "    target[k] = y\n",
        "  \n",
        "  return xInput,target\n",
        "\n",
        "def get_simple_random_batch(batchSize,data_set):\n",
        "  idx = np.random.randint(0,len(data_set),batchSize  )\n",
        "  fullBatch = data_set[idx]\n",
        "  \n",
        "  xInput = np.zeros( (batchSize,n_timesteps,1) )\n",
        "  target = np.zeros( (batchSize,1) )\n",
        "  \n",
        "  for k in range( len(fullBatch)  ):\n",
        "    xInput[k] = fullBatch[k][0]\n",
        "    target[k] = fullBatch[k][1]\n",
        "  \n",
        "  return xInput,target\n",
        "\n",
        "def get_simple_all_dataset(data_set):\n",
        "  \n",
        "  xInput = np.zeros( (len(data_set),n_timesteps,1) )\n",
        "  target = np.zeros( (len(data_set),1) )\n",
        "  \n",
        "  for k in range( len(data_set)  ):\n",
        "    xInput[k] = data_set[k][0]\n",
        "    target[k] = data_set[k][1]\n",
        "  \n",
        "  return xInput,target\n",
        "\n",
        "def getAllDataSet(data_set):\n",
        "  totexamples = len(data_set)-130\n",
        "  xInput = np.zeros( (totexamples,n_timesteps,1) )\n",
        "  target = np.zeros( (totexamples,1) )\n",
        "  listone = []\n",
        "  for k in range(0,totexamples):\n",
        "    X,y = get_sequence_from_idx(data_set,k)\n",
        "#    xInput[k] = X\n",
        "#    target[k] = y\n",
        "    listone.append([X,y])\n",
        "    if k % 100000 ==0 :\n",
        "      print('generate %d dataset items ' % k)\n",
        "  return listone#xInput,target \n"
      ],
      "execution_count": 0,
      "outputs": []
    },
    {
      "metadata": {
        "id": "WSrcfqyNMarR",
        "colab_type": "code",
        "outputId": "1974e492-5cc2-4647-fad5-f160dab95cbd",
        "colab": {
          "base_uri": "https://localhost:8080/",
          "height": 68
        }
      },
      "cell_type": "code",
      "source": [
        "ilMax = max(righe_file)\n",
        "ilMin = min(righe_file)\n",
        "\n",
        "\n",
        "delta = ilMax-ilMin\n",
        "\n",
        "\n",
        "print('MAX ', ilMax )\n",
        "print('MIN ', ilMin )\n",
        "print('delta ', delta )"
      ],
      "execution_count": 19,
      "outputs": [
        {
          "output_type": "stream",
          "text": [
            "MAX  1.3663\n",
            "MIN  1.164\n",
            "delta  0.20230000000000015\n"
          ],
          "name": "stdout"
        }
      ]
    },
    {
      "metadata": {
        "id": "M-656NHRk5JE",
        "colab_type": "code",
        "colab": {}
      },
      "cell_type": "code",
      "source": [
        "def normValue(theValue):\n",
        "  return (float(theValue)-ilMin)/delta\n"
      ],
      "execution_count": 0,
      "outputs": []
    },
    {
      "metadata": {
        "id": "kvDk_hA8tFQv",
        "colab_type": "code",
        "outputId": "752fd5e1-3e76-47eb-81a7-37191d2846b2",
        "colab": {
          "base_uri": "https://localhost:8080/",
          "height": 221
        }
      },
      "cell_type": "code",
      "source": [
        "from sklearn.model_selection import train_test_split\n",
        "\n",
        "n_timesteps = 100\n",
        "\n",
        "allDataset = getAllDataSet(righe_file)\n",
        "\n",
        "\n",
        "train, validation = train_test_split(allDataset,shuffle=False)\n",
        "\n",
        "print(\"TRAIN LEN \",len(train) )\n",
        "print(\"validation LEN \",len(validation) )\n"
      ],
      "execution_count": 22,
      "outputs": [
        {
          "output_type": "stream",
          "text": [
            "generate 0 dataset items \n",
            "generate 100000 dataset items \n",
            "generate 200000 dataset items \n",
            "generate 300000 dataset items \n",
            "generate 400000 dataset items \n",
            "generate 500000 dataset items \n",
            "generate 600000 dataset items \n",
            "generate 700000 dataset items \n",
            "generate 800000 dataset items \n",
            "generate 900000 dataset items \n",
            "TRAIN LEN  749902\n",
            "validation LEN  249968\n"
          ],
          "name": "stdout"
        }
      ]
    },
    {
      "metadata": {
        "id": "yeK8zE35KMCN",
        "colab_type": "code",
        "colab": {}
      },
      "cell_type": "code",
      "source": [
        "#train[0].head()\n",
        "array_train = np.asarray(train )\n",
        "array_val = np.asarray(validation )\n",
        "\n"
      ],
      "execution_count": 0,
      "outputs": []
    },
    {
      "metadata": {
        "id": "ax_H7KPcTZr3",
        "colab_type": "code",
        "outputId": "4ad0d5dd-fcf0-4e80-9dc3-f6f2458d3c94",
        "colab": {
          "base_uri": "https://localhost:8080/",
          "height": 306
        }
      },
      "cell_type": "code",
      "source": [
        "\n",
        "\n",
        "model = Sequential()\n",
        "model.add(Bidirectional(CuDNNLSTM(n_timesteps, return_sequences=True,kernel_initializer=glorot_uniform()), \n",
        "                        input_shape=(n_timesteps, 1), name='inputBIDI'))\n",
        "model.add(Bidirectional(CuDNNLSTM(256, return_sequences=True,kernel_initializer=glorot_uniform())))\n",
        "model.add(TimeDistributed(Dense(1, activation='tanh')))\n",
        "model.add(Flatten())\n",
        "model.add(Dense(1, activation='sigmoid')  ) \n",
        "\n",
        "model.compile(loss='binary_crossentropy', optimizer='adam', metrics=['acc'])\n",
        "model.summary()"
      ],
      "execution_count": 24,
      "outputs": [
        {
          "output_type": "stream",
          "text": [
            "_________________________________________________________________\n",
            "Layer (type)                 Output Shape              Param #   \n",
            "=================================================================\n",
            "inputBIDI (Bidirectional)    (None, 100, 200)          82400     \n",
            "_________________________________________________________________\n",
            "bidirectional_8 (Bidirection (None, 100, 512)          937984    \n",
            "_________________________________________________________________\n",
            "time_distributed_7 (TimeDist (None, 100, 1)            513       \n",
            "_________________________________________________________________\n",
            "flatten_5 (Flatten)          (None, 100)               0         \n",
            "_________________________________________________________________\n",
            "dense_12 (Dense)             (None, 1)                 101       \n",
            "=================================================================\n",
            "Total params: 1,020,998\n",
            "Trainable params: 1,020,998\n",
            "Non-trainable params: 0\n",
            "_________________________________________________________________\n"
          ],
          "name": "stdout"
        }
      ]
    },
    {
      "metadata": {
        "id": "AXXnozb1sF0T",
        "colab_type": "code",
        "outputId": "be2aabb4-01ac-40a2-9fd2-f3b97b6d8b68",
        "colab": {
          "base_uri": "https://localhost:8080/",
          "height": 1326
        }
      },
      "cell_type": "code",
      "source": [
        "samplePos=0\n",
        "# train LSTM\n",
        "\n",
        "xInput,target = get_simple_all_dataset(validation)\n",
        "\n",
        "for epoch in range(1000):\n",
        " \n",
        "  X,y = get_simple_random_batch(750,array_train )\n",
        "  resTrain = model.train_on_batch(X,y)\n",
        "\n",
        "  if(epoch % 10 == 0):\n",
        "    print('Apprendimento epoch->',epoch,' ',resTrain)\n",
        "    \n",
        "  if(epoch % 1000 == -1 ):\n",
        "    totexamples = 1000\n",
        "    resulto = model.evaluate(xInput, target, verbose=1,batch_size=512)\n",
        "\n",
        "    print('Eseguo validazione %.2f%%'%(resulto[1]*100), '>>>>>',resulto  )\n",
        "    print('')\n",
        "\n",
        "  \n",
        "# evaluate LSTM\n",
        "\n"
      ],
      "execution_count": 0,
      "outputs": [
        {
          "output_type": "stream",
          "text": [
            "Apprendimento epoch-> 0   [0.68052906, 0.5786667]\n",
            "Apprendimento epoch-> 10   [0.6789285, 0.58933336]\n",
            "Apprendimento epoch-> 20   [0.67785275, 0.588]\n",
            "Apprendimento epoch-> 30   [0.68013966, 0.58133334]\n",
            "Apprendimento epoch-> 40   [0.6697282, 0.60933334]\n",
            "Apprendimento epoch-> 50   [0.6749777, 0.596]\n",
            "Apprendimento epoch-> 60   [0.678522, 0.58533335]\n",
            "Apprendimento epoch-> 70   [0.67774373, 0.588]\n",
            "Apprendimento epoch-> 80   [0.6858933, 0.56133336]\n",
            "Apprendimento epoch-> 90   [0.6727361, 0.604]\n",
            "Apprendimento epoch-> 100   [0.68875885, 0.55866665]\n",
            "Apprendimento epoch-> 110   [0.6906148, 0.55333334]\n",
            "Apprendimento epoch-> 120   [0.67031115, 0.60933334]\n",
            "Apprendimento epoch-> 130   [0.6705661, 0.6066667]\n",
            "Apprendimento epoch-> 140   [0.67031777, 0.6066667]\n",
            "Apprendimento epoch-> 150   [0.6772576, 0.58933336]\n",
            "Apprendimento epoch-> 160   [0.68237215, 0.5746667]\n",
            "Apprendimento epoch-> 170   [0.6811555, 0.57733333]\n",
            "Apprendimento epoch-> 180   [0.6697227, 0.6106667]\n",
            "Apprendimento epoch-> 190   [0.68290365, 0.576]\n",
            "Apprendimento epoch-> 200   [0.6952028, 0.54]\n",
            "Apprendimento epoch-> 210   [0.6874336, 0.55733335]\n",
            "Apprendimento epoch-> 220   [0.6754083, 0.59466666]\n",
            "Apprendimento epoch-> 230   [0.6662093, 0.62]\n",
            "Apprendimento epoch-> 240   [0.6761769, 0.592]\n",
            "Apprendimento epoch-> 250   [0.6770763, 0.58933336]\n",
            "Apprendimento epoch-> 260   [0.683724, 0.5706667]\n",
            "Apprendimento epoch-> 270   [0.6780158, 0.58666664]\n",
            "Apprendimento epoch-> 280   [0.6793579, 0.5826667]\n",
            "Apprendimento epoch-> 290   [0.67706364, 0.58933336]\n",
            "Apprendimento epoch-> 300   [0.6825667, 0.5746667]\n",
            "Apprendimento epoch-> 310   [0.6841703, 0.568]\n",
            "Apprendimento epoch-> 320   [0.6775345, 0.58933336]\n",
            "Apprendimento epoch-> 330   [0.67885834, 0.584]\n",
            "Apprendimento epoch-> 340   [0.6831487, 0.5733333]\n",
            "Apprendimento epoch-> 350   [0.672889, 0.6013333]\n",
            "Apprendimento epoch-> 360   [0.6827702, 0.572]\n",
            "Apprendimento epoch-> 370   [0.6666036, 0.62266666]\n",
            "Apprendimento epoch-> 380   [0.6761235, 0.592]\n",
            "Apprendimento epoch-> 390   [0.6697574, 0.60933334]\n",
            "Apprendimento epoch-> 400   [0.6770697, 0.58933336]\n",
            "Apprendimento epoch-> 410   [0.6763063, 0.59066665]\n",
            "Apprendimento epoch-> 420   [0.68257844, 0.5733333]\n",
            "Apprendimento epoch-> 430   [0.68581533, 0.56133336]\n",
            "Apprendimento epoch-> 440   [0.6737475, 0.6013333]\n",
            "Apprendimento epoch-> 450   [0.6702553, 0.60933334]\n",
            "Apprendimento epoch-> 460   [0.6612704, 0.632]\n",
            "Apprendimento epoch-> 470   [0.66802824, 0.61333334]\n",
            "Apprendimento epoch-> 480   [0.68332845, 0.5706667]\n",
            "Apprendimento epoch-> 490   [0.6753042, 0.59466666]\n",
            "Apprendimento epoch-> 500   [0.67751807, 0.58666664]\n",
            "Apprendimento epoch-> 510   [0.6648933, 0.62133336]\n",
            "Apprendimento epoch-> 520   [0.6726884, 0.6]\n",
            "Apprendimento epoch-> 530   [0.6742606, 0.59866667]\n",
            "Apprendimento epoch-> 540   [0.67477703, 0.6]\n",
            "Apprendimento epoch-> 550   [0.6785638, 0.58533335]\n",
            "Apprendimento epoch-> 560   [0.6898562, 0.55466664]\n",
            "Apprendimento epoch-> 570   [0.67305607, 0.604]\n",
            "Apprendimento epoch-> 580   [0.6819559, 0.576]\n",
            "Apprendimento epoch-> 590   [0.66994506, 0.60933334]\n",
            "Apprendimento epoch-> 600   [0.68090093, 0.5786667]\n",
            "Apprendimento epoch-> 610   [0.6727434, 0.6013333]\n",
            "Apprendimento epoch-> 620   [0.67499065, 0.59466666]\n",
            "Apprendimento epoch-> 630   [0.6739378, 0.5973333]\n",
            "Apprendimento epoch-> 640   [0.68051505, 0.58]\n",
            "Apprendimento epoch-> 650   [0.6870791, 0.56]\n",
            "Apprendimento epoch-> 660   [0.671363, 0.6053333]\n",
            "Apprendimento epoch-> 670   [0.6692117, 0.6106667]\n",
            "Apprendimento epoch-> 680   [0.6771857, 0.58933336]\n",
            "Apprendimento epoch-> 690   [0.68320334, 0.5706667]\n",
            "Apprendimento epoch-> 700   [0.67782664, 0.588]\n",
            "Apprendimento epoch-> 710   [0.6704386, 0.608]\n",
            "Apprendimento epoch-> 720   [0.6760974, 0.592]\n",
            "Apprendimento epoch-> 730   [0.6712531, 0.6053333]\n",
            "Apprendimento epoch-> 740   [0.67527467, 0.596]\n",
            "Apprendimento epoch-> 750   [0.68466014, 0.56666666]\n",
            "Apprendimento epoch-> 760   [0.6882797, 0.55733335]\n"
          ],
          "name": "stdout"
        }
      ]
    },
    {
      "metadata": {
        "id": "7WsO9QvZwnfc",
        "colab_type": "code",
        "colab": {}
      },
      "cell_type": "code",
      "source": [
        " "
      ],
      "execution_count": 0,
      "outputs": []
    },
    {
      "metadata": {
        "id": "741hU0hHWyfD",
        "colab_type": "code",
        "colab": {}
      },
      "cell_type": "code",
      "source": [
        ""
      ],
      "execution_count": 0,
      "outputs": []
    }
  ]
}