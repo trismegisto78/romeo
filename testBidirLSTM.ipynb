{
  "nbformat": 4,
  "nbformat_minor": 0,
  "metadata": {
    "colab": {
      "name": "testBidirLSTM.ipynb",
      "version": "0.3.2",
      "provenance": [],
      "collapsed_sections": [],
      "include_colab_link": true
    },
    "kernelspec": {
      "name": "python3",
      "display_name": "Python 3"
    }
  },
  "cells": [
    {
      "cell_type": "markdown",
      "metadata": {
        "id": "view-in-github",
        "colab_type": "text"
      },
      "source": [
        "<a href=\"https://colab.research.google.com/github/trismegisto78/romeo/blob/master/testBidirLSTM.ipynb\" target=\"_parent\"><img src=\"https://colab.research.google.com/assets/colab-badge.svg\" alt=\"Open In Colab\"/></a>"
      ]
    },
    {
      "metadata": {
        "id": "ZwD4Pm6HLfac",
        "colab_type": "code",
        "colab": {
          "base_uri": "https://localhost:8080/",
          "height": 35
        },
        "outputId": "d58fe290-f035-4206-bb46-4ad153ff5626"
      },
      "cell_type": "code",
      "source": [
        "\n",
        "import numpy as np\n",
        "from random import random\n",
        "from numpy import array\n",
        "from numpy import cumsum\n",
        "from keras.models import Sequential\n",
        "from keras.layers import LSTM\n",
        "from keras.layers import Dense\n",
        "from keras.layers import TimeDistributed\n",
        "from keras.layers import Bidirectional"
      ],
      "execution_count": 1,
      "outputs": [
        {
          "output_type": "stream",
          "text": [
            "Using TensorFlow backend.\n"
          ],
          "name": "stderr"
        }
      ]
    },
    {
      "metadata": {
        "id": "8kHnvUueWpsW",
        "colab_type": "code",
        "outputId": "6c1eee3a-d017-42b5-9e1b-e061e74b7609",
        "colab": {
          "base_uri": "https://localhost:8080/",
          "height": 63
        }
      },
      "cell_type": "code",
      "source": [
        "!git clone https://github.com/trismegisto78/romeo"
      ],
      "execution_count": 0,
      "outputs": [
        {
          "output_type": "stream",
          "text": [
            "fatal: destination path 'romeo' already exists and is not an empty directory.\n"
          ],
          "name": "stdout"
        }
      ]
    },
    {
      "metadata": {
        "id": "Fx3QdJ_FCQH4",
        "colab_type": "text"
      },
      "cell_type": "markdown",
      "source": [
        "MOUNT GOOGLE DRIVE"
      ]
    },
    {
      "metadata": {
        "id": "Pj_iYC_gyY2S",
        "colab_type": "code",
        "colab": {}
      },
      "cell_type": "code",
      "source": [
        "from google.colab import drive\n",
        "drive.mount('/content/gdrive')"
      ],
      "execution_count": 0,
      "outputs": []
    },
    {
      "metadata": {
        "id": "AoK-CpMQyY3j",
        "colab_type": "code",
        "colab": {}
      },
      "cell_type": "code",
      "source": [
        "with open('/content/gdrive/My Drive/strMacd2004.csv', 'r') as f:\n",
        "  lerighe = f.read().split('\\n')\n",
        "del lerighe[0]"
      ],
      "execution_count": 0,
      "outputs": []
    },
    {
      "metadata": {
        "id": "Nl5PaobDJ3lw",
        "colab_type": "code",
        "outputId": "04de6813-cf93-4dbd-ff52-687edc3abd95",
        "colab": {
          "base_uri": "https://localhost:8080/",
          "height": 35
        }
      },
      "cell_type": "code",
      "source": [
        "righe_file=[]\n",
        "for k in range(0,100000) :\n",
        "  righe_file.append(float(lerighe[k].split(\";\")[1]) )\n",
        "  \n",
        "print(righe_file[0])"
      ],
      "execution_count": 67,
      "outputs": [
        {
          "output_type": "stream",
          "text": [
            "1.2596\n"
          ],
          "name": "stdout"
        }
      ]
    },
    {
      "metadata": {
        "id": "ax_H7KPcTZr3",
        "colab_type": "code",
        "colab": {}
      },
      "cell_type": "code",
      "source": [
        "n_timesteps = 100\n",
        "\n",
        "model = Sequential()\n",
        "model.add(Bidirectional(LSTM(n_timesteps, return_sequences=True), input_shape=(n_timesteps, 1)))\n",
        "model.add(TimeDistributed(Dense(1, activation='sigmoid')))\n",
        "model.compile(loss='binary_crossentropy', optimizer='adam', metrics=['acc'])"
      ],
      "execution_count": 0,
      "outputs": []
    },
    {
      "metadata": {
        "id": "WSrcfqyNMarR",
        "colab_type": "code",
        "outputId": "2f1aa341-5fc5-4061-9403-568bc87df339",
        "colab": {
          "base_uri": "https://localhost:8080/",
          "height": 72
        }
      },
      "cell_type": "code",
      "source": [
        "ilMax = max(righe_file)\n",
        "ilMin = min(righe_file)\n",
        "\n",
        "\n",
        "delta = ilMax-ilMin\n",
        "\n",
        "\n",
        "print('MAX ', ilMax )\n",
        "print('MIN ', ilMin )\n",
        "print('delta ', delta )"
      ],
      "execution_count": 78,
      "outputs": [
        {
          "output_type": "stream",
          "text": [
            "MAX  1.2924\n",
            "MIN  1.1983\n",
            "delta  0.09410000000000007\n"
          ],
          "name": "stdout"
        }
      ]
    },
    {
      "metadata": {
        "id": "tEiNZ5n-Wk8G",
        "colab_type": "code",
        "colab": {}
      },
      "cell_type": "code",
      "source": [
        "\n",
        "\n",
        "\n",
        "\n",
        "# create a sequence classification instance\n",
        "def get_sequence():\n",
        "  X = np.zeros(n_timesteps)\n",
        "  Y = np.zeros(n_timesteps)\n",
        "  for k in range(0,n_timesteps):\n",
        "    value=(float(righe_file[samplePos+k])-ilMin )/delta\n",
        "    value2=(float(righe_file[samplePos+k+1])-ilMin)/delta\n",
        "    #print(value,' ',value2)\n",
        "    X[k]=value\n",
        "    Y[k]=value2\n",
        "    \n",
        "    if value2<value:\n",
        "      Y[k]=1.0\n",
        "    else:\n",
        "      Y[k]=0.0\n",
        "  \n",
        "  X = X.reshape(1, n_timesteps, 1)\n",
        "  y = Y.reshape(1, n_timesteps, 1)\n",
        "  \n",
        "  return X, y"
      ],
      "execution_count": 0,
      "outputs": []
    },
    {
      "metadata": {
        "id": "AXXnozb1sF0T",
        "colab_type": "code",
        "colab": {}
      },
      "cell_type": "code",
      "source": [
        "samplePos=0\n",
        "# train LSTM\n",
        "for epoch in range(10000):\n",
        "  X,y = get_sequence()\n",
        "  \n",
        "  model.fit(X, y, epochs=1, batch_size=1, verbose=0)\n",
        "  if samplePos>4000000 :\n",
        "    samplePos=0\n",
        "  samplePos=samplePos+1\n",
        "  \n",
        "# evaluate LSTM\n",
        "\n"
      ],
      "execution_count": 0,
      "outputs": []
    },
    {
      "metadata": {
        "id": "7WsO9QvZwnfc",
        "colab_type": "code",
        "colab": {}
      },
      "cell_type": "code",
      "source": [
        "samplePos=20000+n_timesteps\n",
        "X,y = get_sequence()\n",
        "\n",
        "yhat = model.predict_classes(X, verbose=0)\n",
        "\n",
        "valH =0\n",
        "valX=0\n",
        "for i in range(n_timesteps):\n",
        "  valx = (yhat[0, i]*delta)+ilMin\n",
        "  #print('Expected:', '{0:.5f}'.format(float( (y[0, i]*delta)+ilMin ) ), 'Predicted', '{0:.5f}'.format(float(valx)   )   )\n",
        "  #print('{0:.5f}'.format(float( (y[0, i]*delta)+ilMin ) ), '\\t', '{0:.5f}'.format(float(valx)   )   )\n",
        "  \n",
        "  \n",
        "  theH=int(y[0, i])\n",
        "  theX=int(yhat[0, i])\n",
        "  \n",
        "  if theH==1 :\n",
        "    valH=valH+1\n",
        "  else:\n",
        "    valH=valH-1\n",
        "    \n",
        "    \n",
        "  if theX==1 :\n",
        "    valX=valX+1\n",
        "  else:\n",
        "    valX=valX-1\n",
        "    \n",
        "  print( valH, '\\t',  valX )"
      ],
      "execution_count": 0,
      "outputs": []
    },
    {
      "metadata": {
        "id": "741hU0hHWyfD",
        "colab_type": "code",
        "colab": {}
      },
      "cell_type": "code",
      "source": [
        "samplePos=samplePos+500"
      ],
      "execution_count": 0,
      "outputs": []
    }
  ]
}