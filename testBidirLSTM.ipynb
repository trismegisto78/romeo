{
  "nbformat": 4,
  "nbformat_minor": 0,
  "metadata": {
    "colab": {
      "name": "testBidirLSTM.ipynb",
      "version": "0.3.2",
      "provenance": [],
      "collapsed_sections": [],
      "include_colab_link": true
    },
    "kernelspec": {
      "name": "python3",
      "display_name": "Python 3"
    },
    "accelerator": "GPU"
  },
  "cells": [
    {
      "cell_type": "markdown",
      "metadata": {
        "id": "view-in-github",
        "colab_type": "text"
      },
      "source": [
        "<a href=\"https://colab.research.google.com/github/trismegisto78/romeo/blob/master/testBidirLSTM.ipynb\" target=\"_parent\"><img src=\"https://colab.research.google.com/assets/colab-badge.svg\" alt=\"Open In Colab\"/></a>"
      ]
    },
    {
      "metadata": {
        "id": "ZwD4Pm6HLfac",
        "colab_type": "code",
        "colab": {}
      },
      "cell_type": "code",
      "source": [
        "\n",
        "import numpy as np\n",
        "from random import random\n",
        "from numpy import array\n",
        "from numpy import cumsum\n",
        "from keras.models import Sequential\n",
        "from keras.layers import LSTM\n",
        "from keras.layers import Dense\n",
        "from keras.layers import TimeDistributed\n",
        "from keras.layers import Bidirectional\n",
        "from keras.layers import Flatten,CuDNNLSTM\n",
        "from keras.initializers import glorot_uniform\n"
      ],
      "execution_count": 0,
      "outputs": []
    },
    {
      "metadata": {
        "id": "8kHnvUueWpsW",
        "colab_type": "code",
        "outputId": "1caff97c-5281-4aff-8e60-5aa1dfc008de",
        "colab": {
          "base_uri": "https://localhost:8080/",
          "height": 35
        }
      },
      "cell_type": "code",
      "source": [
        "!git clone https://github.com/trismegisto78/romeo"
      ],
      "execution_count": 46,
      "outputs": [
        {
          "output_type": "stream",
          "text": [
            "fatal: destination path 'romeo' already exists and is not an empty directory.\n"
          ],
          "name": "stdout"
        }
      ]
    },
    {
      "metadata": {
        "id": "Fx3QdJ_FCQH4",
        "colab_type": "text"
      },
      "cell_type": "markdown",
      "source": [
        "MOUNT GOOGLE DRIVE"
      ]
    },
    {
      "metadata": {
        "id": "Pj_iYC_gyY2S",
        "colab_type": "code",
        "colab": {
          "base_uri": "https://localhost:8080/",
          "height": 35
        },
        "outputId": "b45024cd-357a-4d45-a5c2-5185fc3eb0e4"
      },
      "cell_type": "code",
      "source": [
        "from google.colab import drive\n",
        "drive.mount('/content/gdrive')"
      ],
      "execution_count": 47,
      "outputs": [
        {
          "output_type": "stream",
          "text": [
            "Drive already mounted at /content/gdrive; to attempt to forcibly remount, call drive.mount(\"/content/gdrive\", force_remount=True).\n"
          ],
          "name": "stdout"
        }
      ]
    },
    {
      "metadata": {
        "id": "AoK-CpMQyY3j",
        "colab_type": "code",
        "colab": {}
      },
      "cell_type": "code",
      "source": [
        "with open('/content/gdrive/My Drive/strMacd2004.csv', 'r') as f:\n",
        "  lerighe = f.read().split('\\n')\n",
        "del lerighe[0]"
      ],
      "execution_count": 0,
      "outputs": []
    },
    {
      "metadata": {
        "id": "Nl5PaobDJ3lw",
        "colab_type": "code",
        "outputId": "c1e58c62-48f8-4823-920b-26c06f8abb44",
        "colab": {
          "base_uri": "https://localhost:8080/",
          "height": 35
        }
      },
      "cell_type": "code",
      "source": [
        "righe_file=[]\n",
        "for k in range(0,1000000) :\n",
        "  righe_file.append(float(lerighe[k].split(\";\")[1]) )\n",
        "  \n",
        "print(righe_file[0])\n",
        "\n"
      ],
      "execution_count": 60,
      "outputs": [
        {
          "output_type": "stream",
          "text": [
            "1.2596\n"
          ],
          "name": "stdout"
        }
      ]
    },
    {
      "metadata": {
        "id": "tEiNZ5n-Wk8G",
        "colab_type": "code",
        "colab": {}
      },
      "cell_type": "code",
      "source": [
        "# create a sequence classification instance\n",
        "def get_sequence(dataset_array):\n",
        "  idx = np.random.randint(0,len(dataset_array)-130  )\n",
        "  X,y = get_sequence_from_idx(dataset_array,idx)\n",
        "  return X,y\n",
        "\n",
        "def get_sequence_from_idx(dataset_array,idx):\n",
        "  \n",
        "  X = np.zeros(n_timesteps)\n",
        "  Y = np.zeros(1)\n",
        "   \n",
        "  \n",
        "  for k in range(idx,idx+n_timesteps ):\n",
        "    value=normValue(dataset_array[k])\n",
        "    X[k-idx]=value\n",
        "    \n",
        "  finalValue=normValue(dataset_array[idx+130])\n",
        "\n",
        "  if finalValue<(value-0.00050):\n",
        "    Y[0]=1.0\n",
        "  else:\n",
        "    Y[0]=0.0\n",
        "  \n",
        "  X = X.reshape(n_timesteps,1)\n",
        "  Y = Y.reshape(1)\n",
        "  return X, Y\n",
        "\n",
        "def get_a_batch(batchSize,data_set):\n",
        "  totexamples = batchSize\n",
        "  xInput = np.zeros( (totexamples,n_timesteps,1) )\n",
        "  target = np.zeros( (totexamples,1) )\n",
        "  for k in range(0,totexamples):\n",
        "    X,y = get_sequence(data_set)\n",
        "    xInput[k] = X\n",
        "    target[k] = y\n",
        "  \n",
        "  return xInput,target\n",
        "\n",
        "def get_simple_random_batch(batchSize,data_set):\n",
        "  idx = np.random.randint(0,len(data_set),batchSize  )\n",
        "  fullBatch = data_set[idx]\n",
        "  \n",
        "  xInput = np.zeros( (batchSize,n_timesteps,1) )\n",
        "  target = np.zeros( (batchSize,1) )\n",
        "  \n",
        "  for k in range( len(fullBatch)  ):\n",
        "    xInput[k] = fullBatch[k][0]\n",
        "    target[k] = fullBatch[k][1]\n",
        "  \n",
        "  return xInput,target\n",
        "\n",
        "def get_simple_all_dataset(data_set):\n",
        "  \n",
        "  xInput = np.zeros( (len(data_set),n_timesteps,1) )\n",
        "  target = np.zeros( (len(data_set),1) )\n",
        "  \n",
        "  for k in range( len(data_set)  ):\n",
        "    xInput[k] = data_set[k][0]\n",
        "    target[k] = data_set[k][1]\n",
        "  \n",
        "  return xInput,target\n",
        "\n",
        "def getAllDataSet(data_set):\n",
        "  totexamples = len(data_set)-130\n",
        "  xInput = np.zeros( (totexamples,n_timesteps,1) )\n",
        "  target = np.zeros( (totexamples,1) )\n",
        "  listone = []\n",
        "  for k in range(0,totexamples):\n",
        "    X,y = get_sequence_from_idx(data_set,k)\n",
        "#    xInput[k] = X\n",
        "#    target[k] = y\n",
        "    listone.append([X,y])\n",
        "    if k % 100000 ==0 :\n",
        "      print('generate %d dataset items ' % k)\n",
        "  return listone#xInput,target \n"
      ],
      "execution_count": 0,
      "outputs": []
    },
    {
      "metadata": {
        "id": "kvDk_hA8tFQv",
        "colab_type": "code",
        "colab": {
          "base_uri": "https://localhost:8080/",
          "height": 237
        },
        "outputId": "1d055bfd-0f9d-4fe8-b96a-f83823235c12"
      },
      "cell_type": "code",
      "source": [
        "from sklearn.model_selection import train_test_split\n",
        "\n",
        "\n",
        "allDataset = getAllDataSet(righe_file)\n",
        "\n",
        "\n",
        "train, validation = train_test_split(allDataset,shuffle=False)\n",
        "\n",
        "print(\"TRAIN LEN \",len(train) )\n",
        "print(\"validation LEN \",len(validation) )\n"
      ],
      "execution_count": 83,
      "outputs": [
        {
          "output_type": "stream",
          "text": [
            "generate 0 dataset items \n",
            "generate 100000 dataset items \n",
            "generate 200000 dataset items \n",
            "generate 300000 dataset items \n",
            "generate 400000 dataset items \n",
            "generate 500000 dataset items \n",
            "generate 600000 dataset items \n",
            "generate 700000 dataset items \n",
            "generate 800000 dataset items \n",
            "generate 900000 dataset items \n",
            "TRAIN LEN  749902\n",
            "validation LEN  249968\n"
          ],
          "name": "stdout"
        }
      ]
    },
    {
      "metadata": {
        "id": "yeK8zE35KMCN",
        "colab_type": "code",
        "colab": {
          "base_uri": "https://localhost:8080/",
          "height": 35
        },
        "outputId": "2566c489-1259-4154-b09b-141d999b52b1"
      },
      "cell_type": "code",
      "source": [
        "#train[0].head()\n",
        "array_train = np.asarray(train )\n",
        "array_val = np.asarray(validation )\n",
        "\n"
      ],
      "execution_count": 97,
      "outputs": [
        {
          "output_type": "execute_result",
          "data": {
            "text/plain": [
              "(100, 1)"
            ]
          },
          "metadata": {
            "tags": []
          },
          "execution_count": 97
        }
      ]
    },
    {
      "metadata": {
        "id": "wh7UPpY4PO_n",
        "colab_type": "code",
        "colab": {
          "base_uri": "https://localhost:8080/",
          "height": 35
        },
        "outputId": "03e201b3-e764-441c-9815-8b92bba614c2"
      },
      "cell_type": "code",
      "source": [
        "#piccolo test\n",
        "idx = np.random.randint(0,len(array_train),5  )\n",
        "fullBatch = array_train[idx]\n",
        "fullBatch[1][1]"
      ],
      "execution_count": 103,
      "outputs": [
        {
          "output_type": "execute_result",
          "data": {
            "text/plain": [
              "array([1.])"
            ]
          },
          "metadata": {
            "tags": []
          },
          "execution_count": 103
        }
      ]
    },
    {
      "metadata": {
        "id": "ax_H7KPcTZr3",
        "colab_type": "code",
        "colab": {
          "base_uri": "https://localhost:8080/",
          "height": 293
        },
        "outputId": "343e8821-1617-47dd-f481-cf8bdd9a462f"
      },
      "cell_type": "code",
      "source": [
        "n_timesteps = 100\n",
        "\n",
        "model = Sequential()\n",
        "model.add(Bidirectional(CuDNNLSTM(n_timesteps, return_sequences=True,kernel_initializer=glorot_uniform()), \n",
        "                        input_shape=(n_timesteps, 1), name='inputBIDI'))\n",
        "model.add(TimeDistributed(Dense(1, activation='tanh')))\n",
        "model.add(Flatten())\n",
        "model.add(Dense(1, activation='sigmoid')  ) \n",
        "\n",
        "model.compile(loss='binary_crossentropy', optimizer='adam', metrics=['acc'])\n",
        "model.summary()"
      ],
      "execution_count": 106,
      "outputs": [
        {
          "output_type": "stream",
          "text": [
            "_________________________________________________________________\n",
            "Layer (type)                 Output Shape              Param #   \n",
            "=================================================================\n",
            "inputBIDI (Bidirectional)    (None, 100, 200)          82400     \n",
            "_________________________________________________________________\n",
            "time_distributed_6 (TimeDist (None, 100, 1)            201       \n",
            "_________________________________________________________________\n",
            "flatten_6 (Flatten)          (None, 100)               0         \n",
            "_________________________________________________________________\n",
            "dense_12 (Dense)             (None, 1)                 101       \n",
            "=================================================================\n",
            "Total params: 82,702\n",
            "Trainable params: 82,702\n",
            "Non-trainable params: 0\n",
            "_________________________________________________________________\n"
          ],
          "name": "stdout"
        }
      ]
    },
    {
      "metadata": {
        "id": "WSrcfqyNMarR",
        "colab_type": "code",
        "outputId": "d5a027c8-a195-4419-b8ca-43a911439a4c",
        "colab": {
          "base_uri": "https://localhost:8080/",
          "height": 72
        }
      },
      "cell_type": "code",
      "source": [
        "ilMax = max(train)\n",
        "ilMin = min(train)\n",
        "\n",
        "\n",
        "delta = ilMax-ilMin\n",
        "\n",
        "\n",
        "print('MAX ', ilMax )\n",
        "print('MIN ', ilMin )\n",
        "print('delta ', delta )"
      ],
      "execution_count": 64,
      "outputs": [
        {
          "output_type": "stream",
          "text": [
            "MAX  1.3663\n",
            "MIN  1.164\n",
            "delta  0.20230000000000015\n"
          ],
          "name": "stdout"
        }
      ]
    },
    {
      "metadata": {
        "id": "M-656NHRk5JE",
        "colab_type": "code",
        "colab": {
          "base_uri": "https://localhost:8080/",
          "height": 201
        },
        "outputId": "300ed049-02fe-42e5-dacb-cfe8edc17594"
      },
      "cell_type": "code",
      "source": [
        "def normValue(theValue):\n",
        "  return (float(theValue)-ilMin)/delta\n",
        "\n",
        "idx = np.random.randint(0, len(train)-130, n_timesteps  )\n",
        "print(idx)"
      ],
      "execution_count": 65,
      "outputs": [
        {
          "output_type": "stream",
          "text": [
            "[245478 250128 476213 264082 313437 263287 183998 733622 494422 336396\n",
            " 166249 344427 468639 407798 334653 739978 621269 209821 178227 293459\n",
            " 626150 324512 717362 451720 340951 279838 483148 385814  92884 317170\n",
            "  66446 265904 192342 469739 456214 285481 130387 634933 631163  68689\n",
            " 627871 403587 263726 250903 262187 347968 211851 490574 348890 346244\n",
            " 370379 535469  40081 691278 651940 222156 648267 557874 476067 376979\n",
            " 650307 532802 403355 433862 362162 316796 721318 172738 380237 424690\n",
            " 156408 542718 634119 273725   2299 703958 318287 630147 539016 697969\n",
            "   9007  91413 474083 420573 682892 441516 471670 218792 300204 253147\n",
            " 222786 348622 749236 197077  60979 664489 702726 179129 542483 497585]\n"
          ],
          "name": "stdout"
        }
      ]
    },
    {
      "metadata": {
        "id": "AXXnozb1sF0T",
        "colab_type": "code",
        "colab": {
          "base_uri": "https://localhost:8080/",
          "height": 889
        },
        "outputId": "0a24ee17-6b0b-4df4-e261-d8299632128a"
      },
      "cell_type": "code",
      "source": [
        "samplePos=0\n",
        "# train LSTM\n",
        "\n",
        "#xInput,target = getAllDataSet(validation)\n",
        "\n",
        "for epoch in range(1000):\n",
        " \n",
        "  X,y = get_simple_random_batch(75,array_train )\n",
        "  resTrain = model.train_on_batch(X,y)\n",
        "\n",
        "  if(epoch % 100 == 0):\n",
        "    print('Apprendimento epoch->',epoch,' ',resTrain)\n",
        "    \n",
        "  if(epoch % 1000 == 0 ):\n",
        "    totexamples = 1000\n",
        "\n",
        "    xInput,target = get_simple_all_dataset(validation)\n",
        "\n",
        "    resulto = model.evaluate(xInput, target, verbose=1,batch_size=512)\n",
        "\n",
        "    print('Eseguo validazione %.2f%%'%(resulto[1]*100), '>>>>>',resulto  )\n",
        "    print('')\n",
        "\n",
        "  \n",
        "# evaluate LSTM\n",
        "\n"
      ],
      "execution_count": 117,
      "outputs": [
        {
          "output_type": "stream",
          "text": [
            "Apprendimento epoch-> 0   [0.6662728, 0.62666667]\n",
            "249968/249968 [==============================] - 13s 53us/step\n",
            "Eseguo validazione 60.31% >>>>> [0.6730683977538444, 0.6031131985008522]\n",
            "\n",
            "Apprendimento epoch-> 100   [0.68626535, 0.56]\n",
            "Apprendimento epoch-> 200   [0.73812497, 0.46666667]\n",
            "Apprendimento epoch-> 300   [0.7029981, 0.50666666]\n"
          ],
          "name": "stdout"
        },
        {
          "output_type": "error",
          "ename": "KeyboardInterrupt",
          "evalue": "ignored",
          "traceback": [
            "\u001b[0;31m---------------------------------------------------------------------------\u001b[0m",
            "\u001b[0;31mKeyboardInterrupt\u001b[0m                         Traceback (most recent call last)",
            "\u001b[0;32m<ipython-input-117-9feedcf3f51e>\u001b[0m in \u001b[0;36m<module>\u001b[0;34m()\u001b[0m\n\u001b[1;32m      7\u001b[0m \u001b[0;34m\u001b[0m\u001b[0m\n\u001b[1;32m      8\u001b[0m   \u001b[0mX\u001b[0m\u001b[0;34m,\u001b[0m\u001b[0my\u001b[0m \u001b[0;34m=\u001b[0m \u001b[0mget_simple_random_batch\u001b[0m\u001b[0;34m(\u001b[0m\u001b[0;36m75\u001b[0m\u001b[0;34m,\u001b[0m\u001b[0marray_train\u001b[0m \u001b[0;34m)\u001b[0m\u001b[0;34m\u001b[0m\u001b[0;34m\u001b[0m\u001b[0m\n\u001b[0;32m----> 9\u001b[0;31m   \u001b[0mresTrain\u001b[0m \u001b[0;34m=\u001b[0m \u001b[0mmodel\u001b[0m\u001b[0;34m.\u001b[0m\u001b[0mtrain_on_batch\u001b[0m\u001b[0;34m(\u001b[0m\u001b[0mX\u001b[0m\u001b[0;34m,\u001b[0m\u001b[0my\u001b[0m\u001b[0;34m)\u001b[0m\u001b[0;34m\u001b[0m\u001b[0;34m\u001b[0m\u001b[0m\n\u001b[0m\u001b[1;32m     10\u001b[0m \u001b[0;34m\u001b[0m\u001b[0m\n\u001b[1;32m     11\u001b[0m   \u001b[0;32mif\u001b[0m\u001b[0;34m(\u001b[0m\u001b[0mepoch\u001b[0m \u001b[0;34m%\u001b[0m \u001b[0;36m100\u001b[0m \u001b[0;34m==\u001b[0m \u001b[0;36m0\u001b[0m\u001b[0;34m)\u001b[0m\u001b[0;34m:\u001b[0m\u001b[0;34m\u001b[0m\u001b[0;34m\u001b[0m\u001b[0m\n",
            "\u001b[0;32m/usr/local/lib/python3.6/dist-packages/keras/engine/training.py\u001b[0m in \u001b[0;36mtrain_on_batch\u001b[0;34m(self, x, y, sample_weight, class_weight)\u001b[0m\n\u001b[1;32m   1215\u001b[0m             \u001b[0mins\u001b[0m \u001b[0;34m=\u001b[0m \u001b[0mx\u001b[0m \u001b[0;34m+\u001b[0m \u001b[0my\u001b[0m \u001b[0;34m+\u001b[0m \u001b[0msample_weights\u001b[0m\u001b[0;34m\u001b[0m\u001b[0;34m\u001b[0m\u001b[0m\n\u001b[1;32m   1216\u001b[0m         \u001b[0mself\u001b[0m\u001b[0;34m.\u001b[0m\u001b[0m_make_train_function\u001b[0m\u001b[0;34m(\u001b[0m\u001b[0;34m)\u001b[0m\u001b[0;34m\u001b[0m\u001b[0;34m\u001b[0m\u001b[0m\n\u001b[0;32m-> 1217\u001b[0;31m         \u001b[0moutputs\u001b[0m \u001b[0;34m=\u001b[0m \u001b[0mself\u001b[0m\u001b[0;34m.\u001b[0m\u001b[0mtrain_function\u001b[0m\u001b[0;34m(\u001b[0m\u001b[0mins\u001b[0m\u001b[0;34m)\u001b[0m\u001b[0;34m\u001b[0m\u001b[0;34m\u001b[0m\u001b[0m\n\u001b[0m\u001b[1;32m   1218\u001b[0m         \u001b[0;32mreturn\u001b[0m \u001b[0munpack_singleton\u001b[0m\u001b[0;34m(\u001b[0m\u001b[0moutputs\u001b[0m\u001b[0;34m)\u001b[0m\u001b[0;34m\u001b[0m\u001b[0;34m\u001b[0m\u001b[0m\n\u001b[1;32m   1219\u001b[0m \u001b[0;34m\u001b[0m\u001b[0m\n",
            "\u001b[0;32m/usr/local/lib/python3.6/dist-packages/keras/backend/tensorflow_backend.py\u001b[0m in \u001b[0;36m__call__\u001b[0;34m(self, inputs)\u001b[0m\n\u001b[1;32m   2713\u001b[0m                 \u001b[0;32mreturn\u001b[0m \u001b[0mself\u001b[0m\u001b[0;34m.\u001b[0m\u001b[0m_legacy_call\u001b[0m\u001b[0;34m(\u001b[0m\u001b[0minputs\u001b[0m\u001b[0;34m)\u001b[0m\u001b[0;34m\u001b[0m\u001b[0;34m\u001b[0m\u001b[0m\n\u001b[1;32m   2714\u001b[0m \u001b[0;34m\u001b[0m\u001b[0m\n\u001b[0;32m-> 2715\u001b[0;31m             \u001b[0;32mreturn\u001b[0m \u001b[0mself\u001b[0m\u001b[0;34m.\u001b[0m\u001b[0m_call\u001b[0m\u001b[0;34m(\u001b[0m\u001b[0minputs\u001b[0m\u001b[0;34m)\u001b[0m\u001b[0;34m\u001b[0m\u001b[0;34m\u001b[0m\u001b[0m\n\u001b[0m\u001b[1;32m   2716\u001b[0m         \u001b[0;32melse\u001b[0m\u001b[0;34m:\u001b[0m\u001b[0;34m\u001b[0m\u001b[0;34m\u001b[0m\u001b[0m\n\u001b[1;32m   2717\u001b[0m             \u001b[0;32mif\u001b[0m \u001b[0mpy_any\u001b[0m\u001b[0;34m(\u001b[0m\u001b[0mis_tensor\u001b[0m\u001b[0;34m(\u001b[0m\u001b[0mx\u001b[0m\u001b[0;34m)\u001b[0m \u001b[0;32mfor\u001b[0m \u001b[0mx\u001b[0m \u001b[0;32min\u001b[0m \u001b[0minputs\u001b[0m\u001b[0;34m)\u001b[0m\u001b[0;34m:\u001b[0m\u001b[0;34m\u001b[0m\u001b[0;34m\u001b[0m\u001b[0m\n",
            "\u001b[0;32m/usr/local/lib/python3.6/dist-packages/keras/backend/tensorflow_backend.py\u001b[0m in \u001b[0;36m_call\u001b[0;34m(self, inputs)\u001b[0m\n\u001b[1;32m   2673\u001b[0m             \u001b[0mfetched\u001b[0m \u001b[0;34m=\u001b[0m \u001b[0mself\u001b[0m\u001b[0;34m.\u001b[0m\u001b[0m_callable_fn\u001b[0m\u001b[0;34m(\u001b[0m\u001b[0;34m*\u001b[0m\u001b[0marray_vals\u001b[0m\u001b[0;34m,\u001b[0m \u001b[0mrun_metadata\u001b[0m\u001b[0;34m=\u001b[0m\u001b[0mself\u001b[0m\u001b[0;34m.\u001b[0m\u001b[0mrun_metadata\u001b[0m\u001b[0;34m)\u001b[0m\u001b[0;34m\u001b[0m\u001b[0;34m\u001b[0m\u001b[0m\n\u001b[1;32m   2674\u001b[0m         \u001b[0;32melse\u001b[0m\u001b[0;34m:\u001b[0m\u001b[0;34m\u001b[0m\u001b[0;34m\u001b[0m\u001b[0m\n\u001b[0;32m-> 2675\u001b[0;31m             \u001b[0mfetched\u001b[0m \u001b[0;34m=\u001b[0m \u001b[0mself\u001b[0m\u001b[0;34m.\u001b[0m\u001b[0m_callable_fn\u001b[0m\u001b[0;34m(\u001b[0m\u001b[0;34m*\u001b[0m\u001b[0marray_vals\u001b[0m\u001b[0;34m)\u001b[0m\u001b[0;34m\u001b[0m\u001b[0;34m\u001b[0m\u001b[0m\n\u001b[0m\u001b[1;32m   2676\u001b[0m         \u001b[0;32mreturn\u001b[0m \u001b[0mfetched\u001b[0m\u001b[0;34m[\u001b[0m\u001b[0;34m:\u001b[0m\u001b[0mlen\u001b[0m\u001b[0;34m(\u001b[0m\u001b[0mself\u001b[0m\u001b[0;34m.\u001b[0m\u001b[0moutputs\u001b[0m\u001b[0;34m)\u001b[0m\u001b[0;34m]\u001b[0m\u001b[0;34m\u001b[0m\u001b[0;34m\u001b[0m\u001b[0m\n\u001b[1;32m   2677\u001b[0m \u001b[0;34m\u001b[0m\u001b[0m\n",
            "\u001b[0;32m/usr/local/lib/python3.6/dist-packages/tensorflow/python/client/session.py\u001b[0m in \u001b[0;36m__call__\u001b[0;34m(self, *args, **kwargs)\u001b[0m\n\u001b[1;32m   1437\u001b[0m           ret = tf_session.TF_SessionRunCallable(\n\u001b[1;32m   1438\u001b[0m               \u001b[0mself\u001b[0m\u001b[0;34m.\u001b[0m\u001b[0m_session\u001b[0m\u001b[0;34m.\u001b[0m\u001b[0m_session\u001b[0m\u001b[0;34m,\u001b[0m \u001b[0mself\u001b[0m\u001b[0;34m.\u001b[0m\u001b[0m_handle\u001b[0m\u001b[0;34m,\u001b[0m \u001b[0margs\u001b[0m\u001b[0;34m,\u001b[0m \u001b[0mstatus\u001b[0m\u001b[0;34m,\u001b[0m\u001b[0;34m\u001b[0m\u001b[0;34m\u001b[0m\u001b[0m\n\u001b[0;32m-> 1439\u001b[0;31m               run_metadata_ptr)\n\u001b[0m\u001b[1;32m   1440\u001b[0m         \u001b[0;32mif\u001b[0m \u001b[0mrun_metadata\u001b[0m\u001b[0;34m:\u001b[0m\u001b[0;34m\u001b[0m\u001b[0;34m\u001b[0m\u001b[0m\n\u001b[1;32m   1441\u001b[0m           \u001b[0mproto_data\u001b[0m \u001b[0;34m=\u001b[0m \u001b[0mtf_session\u001b[0m\u001b[0;34m.\u001b[0m\u001b[0mTF_GetBuffer\u001b[0m\u001b[0;34m(\u001b[0m\u001b[0mrun_metadata_ptr\u001b[0m\u001b[0;34m)\u001b[0m\u001b[0;34m\u001b[0m\u001b[0;34m\u001b[0m\u001b[0m\n",
            "\u001b[0;31mKeyboardInterrupt\u001b[0m: "
          ]
        }
      ]
    },
    {
      "metadata": {
        "id": "7WsO9QvZwnfc",
        "colab_type": "code",
        "colab": {}
      },
      "cell_type": "code",
      "source": [
        " "
      ],
      "execution_count": 0,
      "outputs": []
    },
    {
      "metadata": {
        "id": "741hU0hHWyfD",
        "colab_type": "code",
        "colab": {}
      },
      "cell_type": "code",
      "source": [
        ""
      ],
      "execution_count": 0,
      "outputs": []
    }
  ]
}