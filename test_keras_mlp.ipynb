{
  "nbformat": 4,
  "nbformat_minor": 0,
  "metadata": {
    "colab": {
      "name": "test_keras_mlp.ipynb",
      "version": "0.3.2",
      "provenance": [],
      "collapsed_sections": [],
      "include_colab_link": true
    },
    "kernelspec": {
      "name": "python3",
      "display_name": "Python 3"
    }
  },
  "cells": [
    {
      "cell_type": "markdown",
      "metadata": {
        "id": "view-in-github",
        "colab_type": "text"
      },
      "source": [
        "<a href=\"https://colab.research.google.com/github/trismegisto78/romeo/blob/master/test_keras_mlp.ipynb\" target=\"_parent\"><img src=\"https://colab.research.google.com/assets/colab-badge.svg\" alt=\"Open In Colab\"/></a>"
      ]
    },
    {
      "metadata": {
        "id": "YhJIPbuiOUz8",
        "colab_type": "code",
        "colab": {}
      },
      "cell_type": "code",
      "source": [
        "import numpy as np\n",
        "from keras.models import Sequential\n",
        "from keras.layers import Dense"
      ],
      "execution_count": 0,
      "outputs": []
    },
    {
      "metadata": {
        "id": "Syo4qcb8OZUH",
        "colab_type": "code",
        "colab": {}
      },
      "cell_type": "code",
      "source": [
        "model = Sequential() # istanza di Sequential\n",
        "model.add(Dense(64, input_dim=20, activation='relu')) #strato di input + hidden\n",
        "model.add(Dense(1, activation='sigmoid')) #strato di output"
      ],
      "execution_count": 0,
      "outputs": []
    },
    {
      "metadata": {
        "id": "9boEJrVrOb1n",
        "colab_type": "code",
        "colab": {}
      },
      "cell_type": "code",
      "source": [
        "model.compile(loss='binary_crossentropy',\n",
        "              optimizer='rmsprop',\n",
        "              metrics=['accuracy'])"
      ],
      "execution_count": 0,
      "outputs": []
    },
    {
      "metadata": {
        "id": "pV17Ea43Of3A",
        "colab_type": "code",
        "colab": {}
      },
      "cell_type": "code",
      "source": [
        "x_train = np.random.random((1000, 20)) #dati input di apprendimento composto da mille vettori di 20 float random\n",
        "y_train = np.random.randint(2, size=(1000, 1))  #dati di out di apprendimento (train) composto da mille scalari random da 0 a 1\n",
        "x_test = np.random.random((100, 20))   #dati input di validazione composto da 100 vettori di 20 float random\n",
        "y_test = np.random.randint(2, size=(100, 1)) #dati di out di validazione (test) composto da mille scalari random da 0 a 1"
      ],
      "execution_count": 0,
      "outputs": []
    },
    {
      "metadata": {
        "id": "WU98jcWUOiV-",
        "colab_type": "code",
        "colab": {
          "base_uri": "https://localhost:8080/",
          "height": 403
        },
        "outputId": "120d5eb9-114c-4b66-bf12-59950e0568f5"
      },
      "cell_type": "code",
      "source": [
        "model.fit(x_train, y_train,\n",
        "          epochs=10,\n",
        "          batch_size=128,verbose=1)"
      ],
      "execution_count": 18,
      "outputs": [
        {
          "output_type": "stream",
          "text": [
            "Epoch 1/10\n",
            "1000/1000 [==============================] - 0s 164us/step - loss: 0.6989 - acc: 0.5190\n",
            "Epoch 2/10\n",
            "1000/1000 [==============================] - 0s 16us/step - loss: 0.6943 - acc: 0.5070\n",
            "Epoch 3/10\n",
            "1000/1000 [==============================] - 0s 14us/step - loss: 0.6922 - acc: 0.5160\n",
            "Epoch 4/10\n",
            "1000/1000 [==============================] - 0s 17us/step - loss: 0.6905 - acc: 0.5190\n",
            "Epoch 5/10\n",
            "1000/1000 [==============================] - 0s 14us/step - loss: 0.6906 - acc: 0.5180\n",
            "Epoch 6/10\n",
            "1000/1000 [==============================] - 0s 15us/step - loss: 0.6892 - acc: 0.5300\n",
            "Epoch 7/10\n",
            "1000/1000 [==============================] - 0s 13us/step - loss: 0.6870 - acc: 0.5310\n",
            "Epoch 8/10\n",
            "1000/1000 [==============================] - 0s 14us/step - loss: 0.6864 - acc: 0.5440\n",
            "Epoch 9/10\n",
            "1000/1000 [==============================] - 0s 14us/step - loss: 0.6856 - acc: 0.5480\n",
            "Epoch 10/10\n",
            "1000/1000 [==============================] - 0s 16us/step - loss: 0.6852 - acc: 0.5410\n"
          ],
          "name": "stdout"
        },
        {
          "output_type": "execute_result",
          "data": {
            "text/plain": [
              "<keras.callbacks.History at 0x7f74f4532780>"
            ]
          },
          "metadata": {
            "tags": []
          },
          "execution_count": 18
        }
      ]
    },
    {
      "metadata": {
        "id": "WtKyH22IOj6U",
        "colab_type": "code",
        "colab": {
          "base_uri": "https://localhost:8080/",
          "height": 54
        },
        "outputId": "ea53f521-dc03-4b32-a962-67bdf2018b15"
      },
      "cell_type": "code",
      "source": [
        "score = model.evaluate(x_test, y_test, batch_size=128)\n",
        "print(score)"
      ],
      "execution_count": 19,
      "outputs": [
        {
          "output_type": "stream",
          "text": [
            "\r100/100 [==============================] - 0s 377us/step\n",
            "[0.7096503973007202, 0.3799999952316284]\n"
          ],
          "name": "stdout"
        }
      ]
    }
  ]
}