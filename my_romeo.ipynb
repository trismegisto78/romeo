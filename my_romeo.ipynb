{
  "nbformat": 4,
  "nbformat_minor": 0,
  "metadata": {
    "colab": {
      "name": "Overview of Colaboratory Features",
      "version": "0.3.2",
      "provenance": [],
      "collapsed_sections": [],
      "toc_visible": true,
      "include_colab_link": true
    },
    "kernelspec": {
      "display_name": "Python 3",
      "name": "python3"
    }
  },
  "cells": [
    {
      "cell_type": "markdown",
      "metadata": {
        "id": "view-in-github",
        "colab_type": "text"
      },
      "source": [
        "<a href=\"https://colab.research.google.com/github/trismegisto78/romeo/blob/master/my_romeo.ipynb\" target=\"_parent\"><img src=\"https://colab.research.google.com/assets/colab-badge.svg\" alt=\"Open In Colab\"/></a>"
      ]
    },
    {
      "metadata": {
        "id": "r7T3cbZTdQ4Q",
        "colab_type": "code",
        "colab": {
          "base_uri": "https://localhost:8080/",
          "height": 127
        },
        "outputId": "72cae207-d7b4-439f-df24-b74574269459"
      },
      "cell_type": "code",
      "source": [
        "!git clone https://github.com/trismegisto78/romeo\n"
      ],
      "execution_count": 1,
      "outputs": [
        {
          "output_type": "stream",
          "text": [
            "Cloning into 'romeo'...\n",
            "remote: Enumerating objects: 30, done.\u001b[K\n",
            "remote: Counting objects: 100% (30/30), done.\u001b[K\n",
            "remote: Compressing objects: 100% (28/28), done.\u001b[K\n",
            "remote: Total 30 (delta 9), reused 0 (delta 0), pack-reused 0\u001b[K\n",
            "Unpacking objects: 100% (30/30), done.\n"
          ],
          "name": "stdout"
        }
      ]
    },
    {
      "metadata": {
        "id": "uQSWkmMw3ttq",
        "colab_type": "code",
        "colab": {}
      },
      "cell_type": "code",
      "source": [
        "from keras.models import Sequential\n",
        "from keras.layers import Dense, Dropout\n",
        "from keras.layers import Embedding\n",
        "from keras.layers import LSTM\n",
        "import numpy as np"
      ],
      "execution_count": 0,
      "outputs": []
    },
    {
      "metadata": {
        "id": "tjRApNtjIEg1",
        "colab_type": "code",
        "colab": {
          "base_uri": "https://localhost:8080/",
          "height": 35
        },
        "outputId": "f159b964-5060-4be7-9d0a-663245b59d22"
      },
      "cell_type": "code",
      "source": [
        "righe_file = open('romeo/strMacd2004_small.csv',encoding='utf-8',errors='ignore').read().split('\\n')\n",
        "\n",
        "\n",
        "TOT_WORDXROW = 100\n",
        "MAX_INDEC = 10000\n",
        "#len(righe_file)\n",
        "\n",
        "nuoveRighe=[]\n",
        "mappaDictionary = {}\n",
        "dictionary = []\n",
        "for i in range(0,MAX_INDEC):\n",
        "  nuovaRiga=[]\n",
        "  for x in range(i,i+TOT_WORDXROW):\n",
        "    if i<(MAX_INDEC-TOT_WORDXROW):\n",
        "      if righe_file[x] not in mappaDictionary:\n",
        "        mappaDictionary[righe_file[x]]=1\n",
        "        dictionary.append(int(righe_file[x]))\n",
        "      nuovaRiga.append(int(righe_file[x]) )\n",
        "  if len(nuovaRiga)>0:\n",
        "    nuoveRighe.append(nuovaRiga)\n",
        "\n",
        "dictionary.sort()\n",
        "\n",
        "print(len(dictionary))\n",
        "\n"
      ],
      "execution_count": 24,
      "outputs": [
        {
          "output_type": "stream",
          "text": [
            "308\n"
          ],
          "name": "stdout"
        }
      ]
    },
    {
      "metadata": {
        "id": "FMTlC3O16w9O",
        "colab_type": "code",
        "colab": {}
      },
      "cell_type": "code",
      "source": [
        "#word ti index map\n",
        "word_to_index = {}\n",
        "\n",
        "for i in range(len(dictionary)):\n",
        "  word_to_index[ dictionary[i] ] = i\n",
        "\n",
        "#print(word_to_index)"
      ],
      "execution_count": 0,
      "outputs": []
    },
    {
      "metadata": {
        "id": "ZdWWLlal6Pws",
        "colab_type": "code",
        "colab": {
          "base_uri": "https://localhost:8080/",
          "height": 146
        },
        "outputId": "f1dfb45e-ac7e-4c8c-bd2e-84ec64b6e521"
      },
      "cell_type": "code",
      "source": [
        "#transform in one hot vectors\n",
        "righeHot = []\n",
        "features = []\n",
        "\n",
        "for riga in nuoveRighe:\n",
        "  elementiHot = []\n",
        "  for elem in riga:\n",
        "    hotVec = np.zeros( len(dictionary) )\n",
        "    hotVec[word_to_index[elem]] = 1\n",
        "    elementiHot.append(hotVec)\n",
        "  \n",
        "  righeHot.append(elementiHot)\n",
        "\n",
        "npRigheHot = np.array(righeHot)\n",
        "\n",
        "for k in range(0,1):\n",
        "   print(npRigheHot[k])\n",
        "\n"
      ],
      "execution_count": 26,
      "outputs": [
        {
          "output_type": "stream",
          "text": [
            "[[0. 0. 0. ... 0. 0. 0.]\n",
            " [0. 0. 0. ... 0. 0. 0.]\n",
            " [0. 0. 0. ... 0. 0. 0.]\n",
            " ...\n",
            " [0. 0. 0. ... 0. 0. 0.]\n",
            " [0. 0. 0. ... 0. 0. 0.]\n",
            " [0. 0. 0. ... 0. 0. 0.]]\n"
          ],
          "name": "stdout"
        }
      ]
    },
    {
      "metadata": {
        "id": "LvhJd2neAU1v",
        "colab_type": "code",
        "colab": {}
      },
      "cell_type": "code",
      "source": [
        "\n",
        "\n",
        "max_features = len(dictionary)\n",
        "\n",
        "model = Sequential()\n",
        "model.add(Embedding(max_features, output_dim=256))\n",
        "model.add(LSTM(128))\n",
        "model.add(Dropout(0.5))\n",
        "model.add(Dense(max_features, activation='sigmoid'))\n",
        "\n",
        "model.compile(loss='binary_crossentropy',\n",
        "              optimizer='rmsprop',\n",
        "              metrics=['accuracy'])\n",
        "\n",
        "\n"
      ],
      "execution_count": 0,
      "outputs": []
    },
    {
      "metadata": {
        "id": "AlAPEEDlzU8B",
        "colab_type": "code",
        "colab": {}
      },
      "cell_type": "code",
      "source": [
        "for k in range(0,len(npRigheHot)-1) :\n",
        "  model.fit(npRigheHot[k], npRigheHot[k+1], batch_size=16, epochs=10)\n",
        "  #score = model.evaluate(x_test, y_test, batch_size=16)\n",
        "\n"
      ],
      "execution_count": 0,
      "outputs": []
    }
  ]
}