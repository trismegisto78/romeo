{
  "nbformat": 4,
  "nbformat_minor": 0,
  "metadata": {
    "colab": {
      "name": "Overview of Colaboratory Features",
      "version": "0.3.2",
      "provenance": [],
      "collapsed_sections": [],
      "toc_visible": true,
      "include_colab_link": true
    },
    "kernelspec": {
      "display_name": "Python 3",
      "name": "python3"
    }
  },
  "cells": [
    {
      "cell_type": "markdown",
      "metadata": {
        "id": "view-in-github",
        "colab_type": "text"
      },
      "source": [
        "<a href=\"https://colab.research.google.com/github/trismegisto78/romeo/blob/master/my_romeo.ipynb\" target=\"_parent\"><img src=\"https://colab.research.google.com/assets/colab-badge.svg\" alt=\"Open In Colab\"/></a>"
      ]
    },
    {
      "metadata": {
        "id": "r7T3cbZTdQ4Q",
        "colab_type": "code",
        "colab": {
          "base_uri": "https://localhost:8080/",
          "height": 127
        },
        "outputId": "72cae207-d7b4-439f-df24-b74574269459"
      },
      "cell_type": "code",
      "source": [
        "!git clone https://github.com/trismegisto78/romeo\n"
      ],
      "execution_count": 1,
      "outputs": [
        {
          "output_type": "stream",
          "text": [
            "Cloning into 'romeo'...\n",
            "remote: Enumerating objects: 30, done.\u001b[K\n",
            "remote: Counting objects: 100% (30/30), done.\u001b[K\n",
            "remote: Compressing objects: 100% (28/28), done.\u001b[K\n",
            "remote: Total 30 (delta 9), reused 0 (delta 0), pack-reused 0\u001b[K\n",
            "Unpacking objects: 100% (30/30), done.\n"
          ],
          "name": "stdout"
        }
      ]
    },
    {
      "metadata": {
        "id": "uQSWkmMw3ttq",
        "colab_type": "code",
        "colab": {
          "base_uri": "https://localhost:8080/",
          "height": 35
        },
        "outputId": "32336c73-1613-4198-ff39-15c6885b27b5"
      },
      "cell_type": "code",
      "source": [
        "from keras.models import Sequential\n",
        "from keras.layers import Dense, Dropout\n",
        "from keras.layers import Embedding\n",
        "from keras.layers import LSTM"
      ],
      "execution_count": 3,
      "outputs": [
        {
          "output_type": "stream",
          "text": [
            "Using TensorFlow backend.\n"
          ],
          "name": "stderr"
        }
      ]
    },
    {
      "metadata": {
        "id": "tjRApNtjIEg1",
        "colab_type": "code",
        "colab": {
          "base_uri": "https://localhost:8080/",
          "height": 35
        },
        "outputId": "ee3c03ac-3a40-42f5-ab30-c479f1ceed64"
      },
      "cell_type": "code",
      "source": [
        "righe_file = open('romeo/strMacd2004_small.csv',encoding='utf-8',errors='ignore').read().split('\\n')\n",
        "\n",
        "\n",
        "TOT_WORDXROW = 10\n",
        "MAX_INDEC = 1000\n",
        "#len(righe_file)\n",
        "\n",
        "nuoveRighe=[]\n",
        "mappaDictionary = {}\n",
        "dictionary = []\n",
        "for i in range(0,MAX_INDEC):\n",
        "  nuovaRiga=[]\n",
        "  for x in range(i,i+TOT_WORDXROW):\n",
        "    if i<(MAX_INDEC-TOT_WORDXROW):\n",
        "      if righe_file[x] not in mappaDictionary:\n",
        "        mappaDictionary[righe_file[x]]=1\n",
        "        dictionary.append(int(righe_file[x]))\n",
        "      nuovaRiga.append(righe_file[x])\n",
        "  if len(nuovaRiga)>0:\n",
        "    nuoveRighe.append(nuovaRiga)\n",
        "\n",
        "dictionary.sort()\n",
        "\n",
        "print(len(dictionary))\n",
        "\n"
      ],
      "execution_count": 4,
      "outputs": [
        {
          "output_type": "stream",
          "text": [
            "84\n"
          ],
          "name": "stdout"
        }
      ]
    },
    {
      "metadata": {
        "id": "FMTlC3O16w9O",
        "colab_type": "code",
        "colab": {
          "base_uri": "https://localhost:8080/",
          "height": 55
        },
        "outputId": "390c569d-823a-4981-cd40-cd375fecce09"
      },
      "cell_type": "code",
      "source": [
        "#word ti index map\n",
        "word_to_index = {}\n",
        "\n",
        "for i in range(len(dictionary)):\n",
        "  word_to_index[ dictionary[i] ]=i\n",
        "\n",
        "#print(word_to_index)"
      ],
      "execution_count": 6,
      "outputs": [
        {
          "output_type": "stream",
          "text": [
            "{2524: 0, 2525: 1, 2526: 2, 2527: 3, 2529: 4, 2530: 5, 2532: 6, 2533: 7, 2534: 8, 2535: 9, 2536: 10, 2537: 11, 2538: 12, 2539: 13, 2540: 14, 2542: 15, 2543: 16, 2544: 17, 2545: 18, 2546: 19, 2547: 20, 2548: 21, 2549: 22, 2550: 23, 2552: 24, 2553: 25, 2554: 26, 2555: 27, 2556: 28, 2557: 29, 2558: 30, 2559: 31, 2560: 32, 2562: 33, 2563: 34, 2564: 35, 2565: 36, 2566: 37, 2567: 38, 2568: 39, 2569: 40, 2570: 41, 2572: 42, 2573: 43, 2574: 44, 2575: 45, 2576: 46, 2577: 47, 2578: 48, 2579: 49, 2580: 50, 2582: 51, 2583: 52, 2584: 53, 2585: 54, 2586: 55, 2587: 56, 2588: 57, 2589: 58, 2590: 59, 2592: 60, 2593: 61, 2594: 62, 2595: 63, 2596: 64, 2597: 65, 2598: 66, 2599: 67, 2600: 68, 2603: 69, 2604: 70, 2605: 71, 2606: 72, 2607: 73, 2608: 74, 2609: 75, 2620: 76, 2622: 77, 2623: 78, 2624: 79, 2625: 80, 2626: 81, 2627: 82, 2629: 83}\n"
          ],
          "name": "stdout"
        }
      ]
    },
    {
      "metadata": {
        "id": "ZdWWLlal6Pws",
        "colab_type": "code",
        "colab": {}
      },
      "cell_type": "code",
      "source": [
        "#transform in one hot vectors\n",
        "for riga in nuoveRighe:\n",
        "  for elem in riga:\n",
        "    dictionary"
      ],
      "execution_count": 0,
      "outputs": []
    },
    {
      "metadata": {
        "id": "LvhJd2neAU1v",
        "colab_type": "code",
        "colab": {}
      },
      "cell_type": "code",
      "source": [
        "\n",
        "\n",
        "max_features = len(dictionary)\n",
        "\n",
        "model = Sequential()\n",
        "model.add(Embedding(max_features, output_dim=256))\n",
        "model.add(LSTM(128))\n",
        "model.add(Dropout(0.5))\n",
        "model.add(Dense(max_features, activation='sigmoid'))\n",
        "\n",
        "model.compile(loss='binary_crossentropy',\n",
        "              optimizer='rmsprop',\n",
        "              metrics=['accuracy'])\n",
        "\n",
        "\n"
      ],
      "execution_count": 0,
      "outputs": []
    },
    {
      "metadata": {
        "id": "AlAPEEDlzU8B",
        "colab_type": "code",
        "colab": {}
      },
      "cell_type": "code",
      "source": [
        "#model.fit(x_train, y_train, batch_size=16, epochs=10)\n",
        "#score = model.evaluate(x_test, y_test, batch_size=16)\n",
        "\n"
      ],
      "execution_count": 0,
      "outputs": []
    }
  ]
}