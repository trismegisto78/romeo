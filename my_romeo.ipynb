{
  "nbformat": 4,
  "nbformat_minor": 0,
  "metadata": {
    "colab": {
      "name": "Overview of Colaboratory Features",
      "version": "0.3.2",
      "provenance": [],
      "collapsed_sections": [],
      "toc_visible": true,
      "include_colab_link": true
    },
    "kernelspec": {
      "display_name": "Python 3",
      "name": "python3"
    }
  },
  "cells": [
    {
      "cell_type": "markdown",
      "metadata": {
        "id": "view-in-github",
        "colab_type": "text"
      },
      "source": [
        "<a href=\"https://colab.research.google.com/github/trismegisto78/romeo/blob/master/my_romeo.ipynb\" target=\"_parent\"><img src=\"https://colab.research.google.com/assets/colab-badge.svg\" alt=\"Open In Colab\"/></a>"
      ]
    },
    {
      "metadata": {
        "id": "r7T3cbZTdQ4Q",
        "colab_type": "code",
        "colab": {}
      },
      "cell_type": "code",
      "source": [
        "!git clone https://github.com/trismegisto78/romeo\n"
      ],
      "execution_count": 0,
      "outputs": []
    },
    {
      "metadata": {
        "id": "LvhJd2neAU1v",
        "colab_type": "code",
        "colab": {}
      },
      "cell_type": "code",
      "source": [
        "import tensorflow as tf \n",
        "from tensorflow import keras\n",
        "import numpy as np\n",
        "import re as re\n"
      ],
      "execution_count": 0,
      "outputs": []
    },
    {
      "metadata": {
        "id": "G4XSRfDveGFf",
        "colab_type": "code",
        "colab": {}
      },
      "cell_type": "code",
      "source": [
        "righe_file = open('romeo/film0.txt',encoding='utf-8',errors='ignore').read().split('\\n')\n",
        "\n",
        "#cleaning text rows\n",
        "cleaned_righe_file=[]\n",
        "for sentence in righe_file:\n",
        "  sentence = re.sub(r\"([\\-])\",\"\",sentence)\n",
        "  sentence = re.sub(r\"([\\''])\",\"\",sentence)\n",
        "  sentence = re.sub(r\"([0-9])\",\"\",sentence)\n",
        "  cleaned_righe_file.append(sentence)\n",
        "#print(cleaned_righe_file)"
      ],
      "execution_count": 0,
      "outputs": []
    },
    {
      "metadata": {
        "id": "gxkqzp6Gf0vc",
        "colab_type": "code",
        "colab": {}
      },
      "cell_type": "code",
      "source": [
        "#create dictionary\n",
        "wordsCountMap={}\n",
        "\n",
        "for sentence in cleaned_righe_file:\n",
        "  splitted = sentence.split()\n",
        "  for word in splitted:\n",
        "    if word not in wordsCountMap:\n",
        "      wordsCountMap[word]=1\n",
        "    else:\n",
        "      wordsCountMap[word]+=1\n",
        "\n",
        "#create a list of word\n",
        "dictionary=[]\n",
        "for wordx in wordsCountMap:\n",
        "  dictionary.append(wordx)\n",
        "  \n",
        "dictionary.sort()\n",
        "\n",
        "#from word to int index\n",
        "words_to_index_map={}\n",
        "for i in range(len(dictionary)):\n",
        "  words_to_index_map[dictionary[i]]=i\n",
        "\n",
        "#for i in range(len(dictionary)):\n",
        "#  print(words_to_index_map[dictionary[i]],\" \",dictionary[i])\n",
        "\n",
        "MAX_WORD_PER_SENT=50"
      ],
      "execution_count": 0,
      "outputs": []
    },
    {
      "metadata": {
        "id": "5At8fRtLwF9K",
        "colab_type": "code",
        "colab": {}
      },
      "cell_type": "code",
      "source": [
        "#create string input array\n",
        "inputrows=[]\n",
        "counter = 0\n",
        "for sentence in cleaned_righe_file:\n",
        "  row=[]\n",
        "  splitted = sentence.split()\n",
        "  for wIndex in range(MAX_WORD_PER_SENT):\n",
        "    if wIndex<len(splitted):\n",
        "      row.append( words_to_index_map[splitted[wIndex]]/len(dictionary) )\n",
        "    else:\n",
        "      row.append( 0 )\n",
        "  counter+=1\n",
        "  inputrows.append(row)\n",
        "  \n",
        "  \n",
        "print(inputrows)\n",
        "\n",
        "\n"
      ],
      "execution_count": 0,
      "outputs": []
    },
    {
      "metadata": {
        "id": "bjkV5S7y7BIK",
        "colab_type": "code",
        "colab": {
          "base_uri": "https://localhost:8080/",
          "height": 35
        },
        "outputId": "7afdd0ce-7ab0-43d7-99f0-d8e73e5b0199"
      },
      "cell_type": "code",
      "source": [
        "labels=[]\n",
        "features=[]\n",
        "for i in range(1,len(inputrows)-1 ):\n",
        "  labels.append(inputrows[i])\n",
        "  features.append(inputrows[i-1])\n",
        "\n",
        "print(len(labels),\" \",len(features))"
      ],
      "execution_count": 122,
      "outputs": [
        {
          "output_type": "stream",
          "text": [
            "668   668\n"
          ],
          "name": "stdout"
        }
      ]
    },
    {
      "metadata": {
        "id": "80SdNgVzUKT_",
        "colab_type": "code",
        "colab": {}
      },
      "cell_type": "code",
      "source": [
        "model = keras.Sequential()\n",
        "model.add(keras.layers.Dense(64,activation=\"relu\",input_dim=MAX_WORD_PER_SENT))\n",
        "model.add(keras.layers.Dense(64,activation=\"relu\"))\n",
        "model.add(keras.layers.Dense(MAX_WORD_PER_SENT,activation=\"sigmoid\"))\n"
      ],
      "execution_count": 0,
      "outputs": []
    },
    {
      "metadata": {
        "id": "nhB_ohOdvdTs",
        "colab_type": "code",
        "colab": {}
      },
      "cell_type": "code",
      "source": [
        "# Configure a model for categorical classification.\n",
        "model.compile(optimizer=tf.train.RMSPropOptimizer(0.01),\n",
        "              loss=keras.losses.MSE,\n",
        "              metrics=[keras.metrics.MSE])\n"
      ],
      "execution_count": 0,
      "outputs": []
    },
    {
      "metadata": {
        "id": "xyP2x3SR4XPv",
        "colab_type": "code",
        "colab": {}
      },
      "cell_type": "code",
      "source": [
        "#fit the model\n",
        "dataIn = np.array(features)\n",
        "dataLbs = np.array(labels)\n",
        "\n",
        "model.fit(dataIn, dataLbs, epochs=100, batch_size=32)\n",
        "print(len(labels),\" \",len(features))"
      ],
      "execution_count": 0,
      "outputs": []
    },
    {
      "metadata": {
        "id": "KPHELZ_a63-g",
        "colab_type": "code",
        "colab": {}
      },
      "cell_type": "code",
      "source": [
        "model."
      ],
      "execution_count": 0,
      "outputs": []
    }
  ]
}